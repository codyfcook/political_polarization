{
 "cells": [
  {
   "cell_type": "markdown",
   "metadata": {},
   "source": [
    "# Polarization of Presidential Candidates"
   ]
  },
  {
   "cell_type": "markdown",
   "metadata": {},
   "source": [
    "#### Setup\n",
    "Import csvs, combine, and also split by party"
   ]
  },
  {
   "cell_type": "code",
   "execution_count": 2,
   "metadata": {
    "collapsed": false
   },
   "outputs": [],
   "source": [
    "def read_in_tloc_line(line, is_senate): \n",
    "    if is_senate: \n",
    "        chamber = \"senate\"\n",
    "    else: \n",
    "        chamber = \"house\"\n",
    "    split_line = line.split(\",\")\n",
    "    if len(split_line)!=7: \n",
    "        return {\"date\":\"\", \"title\":\"\", \"speaker\":\"\", \"text\":\"\", \"party\":\"\", \"dwnom1\":\"\", \"dwnom2\":\"\"}\n",
    "    else: \n",
    "        party = split_line[4]\n",
    "        if party == u'200':\n",
    "            party = 1 # Republicans \n",
    "        else: \n",
    "            #party = -1\n",
    "            party = 0\n",
    "\n",
    "        return {\"date\":split_line[0], \"title\":split_line[1], \"speaker\":split_line[2], \"text\":split_line[3], \"party\":party, \"chamber\":chamber, \"dwnom1\":split_line[5], \"dwnom2\":split_line[6]}\n",
    "\n",
    "def read_in_candidate_line(line): \n",
    "    split_line = line.split(\",\")\n",
    "\n",
    "    return {\"speaker\":split_line[0], \"type\":split_line[1], \"text\":split_line[2], \"title\":split_line[3], \"date\":split_line[4]}\n",
    "\n",
    "house_raw = sc.textFile('econ407/house_speakers_dict.csv', minPartitions=20).map(lambda x: read_in_tloc_line(x, False))\n",
    "senate_raw = sc.textFile('econ407/senate_speakers_dict.csv', minPartitions=20).map(lambda x: read_in_tloc_line(x, True))\n",
    "all_cong = house_raw.union(senate_raw)\n",
    "\n",
    "all_republicans = all_cong.filter(lambda x: x['party']==1)\n",
    "all_democrats = all_cong.filter(lambda x: x['party']==0) ## CHANGE THIS IF USING -1 FOR DEM \n",
    "all_cong = all_republicans.union(all_democrats)\n",
    "all_other_party = all_cong.filter(lambda x: x['party'] not in [0, 1])\n",
    "\n",
    "candidates_raw = sc.textFile('econ407/final_candidate_data.csv', minPartitions=20).map(read_in_candidate_line)"
   ]
  },
  {
   "cell_type": "markdown",
   "metadata": {},
   "source": [
    "### Creating bigram representation: \n",
    "\n",
    "##### Parse into lists of words"
   ]
  },
  {
   "cell_type": "code",
   "execution_count": 3,
   "metadata": {
    "collapsed": false
   },
   "outputs": [],
   "source": [
    "import re\n",
    "from stemming.porter2 import stem # Note: you need to install 'stemming' on each slave + master via ssh \n",
    "\n",
    "def parse_text(x): \n",
    "    ''' \n",
    "    Parses full text and returns words. Removes punctuation, numbers, and stop words. Stop word list is from http://xpo6.com/list-of-english-stop-words/\n",
    "    Also uses a porter stemmer to stem each word. So \"pour\" \"poured\" \"pouring\" would all become \"pour\" \n",
    "    '''\n",
    "    stopwords = open('econ407/stop_words.txt', 'r').read().split()\n",
    "    #stopwords = [\"i\", \"a\", \"about\", \"above\", \"above\", \"across\", \"after\", \"afterwards\", \"again\", \"against\", \"all\", \"almost\", \"alone\", \"along\", \"already\", \"also\",\"although\",\"always\",\"am\",\"among\", \"amongst\", \"amoungst\", \"amount\",  \"an\", \"and\", \"another\", \"any\",\"anyhow\",\"anyone\",\"anything\",\"anyway\", \"anywhere\", \"are\", \"around\", \"as\",  \"at\", \"back\",\"be\",\"became\", \"because\",\"become\",\"becomes\", \"becoming\", \"been\", \"before\", \"beforehand\", \"behind\", \"being\", \"below\", \"beside\", \"besides\", \"between\", \"beyond\", \"bill\", \"both\", \"bottom\",\"but\", \"by\", \"call\", \"can\", \"cannot\", \"cant\", \"co\", \"con\", \"could\", \"couldnt\", \"cry\", \"de\", \"describe\", \"detail\", \"do\", \"done\", \"down\", \"due\", \"during\", \"each\", \"eg\", \"eight\", \"either\", \"eleven\",\"else\", \"elsewhere\", \"empty\", \"enough\", \"etc\", \"even\", \"ever\", \"every\", \"everyone\", \"everything\", \"everywhere\", \"except\", \"few\", \"fifteen\", \"fify\", \"fill\", \"find\", \"fire\", \"first\", \"five\", \"for\", \"former\", \"formerly\", \"forty\", \"found\", \"four\", \"from\", \"front\", \"full\", \"further\", \"get\", \"give\", \"go\", \"had\", \"has\", \"hasnt\", \"have\", \"he\", \"hence\", \"her\", \"here\", \"hereafter\", \"hereby\", \"herein\", \"hereupon\", \"hers\", \"herself\", \"him\", \"himself\", \"his\", \"how\", \"however\", \"hundred\", \"ie\", \"if\", \"in\", \"inc\", \"indeed\", \"interest\", \"into\", \"is\", \"it\", \"its\", \"itself\", \"keep\", \"last\", \"latter\", \"latterly\", \"least\", \"less\", \"ltd\", \"made\", \"many\", \"may\", \"me\", \"meanwhile\", \"might\", \"mill\", \"mine\", \"more\", \"moreover\", \"most\", \"mostly\", \"move\", \"much\", \"must\", \"my\", \"myself\", \"name\", \"namely\", \"neither\", \"never\", \"nevertheless\", \"next\", \"nine\", \"no\", \"nobody\", \"none\", \"noone\", \"nor\", \"not\", \"nothing\", \"now\", \"nowhere\", \"of\", \"off\", \"often\", \"on\", \"once\", \"one\", \"only\", \"onto\", \"or\", \"other\", \"others\", \"otherwise\", \"our\", \"ours\", \"ourselves\", \"out\", \"over\", \"own\",\"part\", \"per\", \"perhaps\", \"please\", \"put\", \"rather\", \"re\", \"same\", \"see\", \"seem\", \"seemed\", \"seeming\", \"seems\", \"serious\", \"several\", \"she\", \"should\", \"show\", \"side\", \"since\", \"sincere\", \"six\", \"sixty\", \"so\", \"some\", \"somehow\", \"someone\", \"something\", \"sometime\", \"sometimes\", \"somewhere\", \"still\", \"such\", \"system\", \"take\", \"ten\", \"than\", \"that\", \"the\", \"their\", \"them\", \"themselves\", \"then\", \"thence\", \"there\", \"thereafter\", \"thereby\", \"therefore\", \"therein\", \"thereupon\", \"these\", \"they\", \"thickv\", \"thin\", \"third\", \"this\", \"those\", \"though\", \"three\", \"through\", \"throughout\", \"thru\", \"thus\", \"to\", \"together\", \"too\", \"top\", \"toward\", \"towards\", \"twelve\", \"twenty\", \"two\", \"un\", \"under\", \"until\", \"up\", \"upon\", \"us\", \"very\", \"via\", \"was\", \"we\", \"well\", \"were\", \"what\", \"whatever\", \"when\", \"whence\", \"whenever\", \"where\", \"whereafter\", \"whereas\", \"whereby\", \"wherein\", \"whereupon\", \"wherever\", \"whether\", \"which\", \"while\", \"whither\", \"who\", \"whoever\", \"whole\", \"whom\", \"whose\", \"why\", \"will\", \"with\", \"within\", \"without\", \"would\", \"yet\", \"you\", \"your\", \"yours\", \"yourself\", \"yourselves\", \"the\"]\n",
    "    words = x['text'].lower()\n",
    "    words = re.sub('[^A-Za-z]+', ' ', words)\n",
    "    x['words'] = [w for w in words.split() if w not in stopwords]\n",
    "    x['words'] = [stem(w) for w in x['words']]\n",
    "    x['words'] = [w for w in x['words'] if len(w)>1]\n",
    "    x.pop(\"text\")\n",
    "    return x\n",
    "\n",
    "parsed_republicans = all_republicans.map(parse_text)\n",
    "parsed_democrats = all_democrats.map(parse_text)\n",
    "parsed_all_cong = all_cong.map(parse_text)\n",
    "parsed_candidates = candidates_raw.map(parse_text)"
   ]
  },
  {
   "cell_type": "markdown",
   "metadata": {},
   "source": [
    "##### Create bigrams from list of processed words "
   ]
  },
  {
   "cell_type": "code",
   "execution_count": 4,
   "metadata": {
    "collapsed": false
   },
   "outputs": [],
   "source": [
    "def create_bigrams(x): \n",
    "    text = \" \".join(x['words'])\n",
    "    if len(text)<10: \n",
    "        x['bigrams'] = []\n",
    "        return x\n",
    "    bigrams = [b for b in zip(text.split(\" \")[:-1], text.split(\" \")[1:])]\n",
    "    x['bigrams'] = bigrams\n",
    "    x['num_bigrams'] = len(bigrams)\n",
    "    return x\n",
    "\n",
    "republican_bigrams = parsed_republicans.map(create_bigrams)\n",
    "democrat_bigrams = parsed_democrats.map(create_bigrams)\n",
    "candidates_bigrams = parsed_candidates.map(create_bigrams)\n",
    "all_cong_bigrams = parsed_all_cong.map(create_bigrams)"
   ]
  },
  {
   "cell_type": "code",
   "execution_count": 5,
   "metadata": {
    "collapsed": false
   },
   "outputs": [],
   "source": [
    "republican_bigrams_counts = republican_bigrams.flatMap(lambda x: x['bigrams']).countByValue().items()\n",
    "republican_bigrams_counts.sort(key = lambda x: x[1], reverse=True)"
   ]
  },
  {
   "cell_type": "code",
   "execution_count": 6,
   "metadata": {
    "collapsed": false
   },
   "outputs": [],
   "source": [
    "democrat_bigrams_counts = democrat_bigrams.flatMap(lambda x: x['bigrams']).countByValue().items()\n",
    "democrat_bigrams_counts.sort(key = lambda x: x[1], reverse=True)"
   ]
  },
  {
   "cell_type": "code",
   "execution_count": 7,
   "metadata": {
    "collapsed": false
   },
   "outputs": [],
   "source": [
    "all_cong_bigrams_counts = all_cong_bigrams.flatMap(lambda x: x['bigrams']).countByValue().items()\n",
    "all_cong_bigrams_counts.sort(key = lambda x: x[1], reverse=True)"
   ]
  },
  {
   "cell_type": "code",
   "execution_count": 8,
   "metadata": {
    "collapsed": false
   },
   "outputs": [],
   "source": [
    "candidates_bigrams_counts = candidates_bigrams.flatMap(lambda x: x['bigrams']).countByValue().items()\n",
    "candidates_bigrams_counts.sort(key = lambda x: x[1], reverse=True)"
   ]
  },
  {
   "cell_type": "markdown",
   "metadata": {
    "collapsed": false
   },
   "source": [
    "#### Create list of bigrams to use as represenation\n",
    "There are 796,319 unique bigrams. A lot of them are junk. We'll keep them based on the following criteria:\n",
    "\n",
    "    1) not in the top 50 for both reps and dems\n",
    "    2) appears in at least 15 different speeches\n",
    "    3) appears X times? \n",
    "    "
   ]
  },
  {
   "cell_type": "code",
   "execution_count": 9,
   "metadata": {
    "collapsed": false
   },
   "outputs": [
    {
     "data": {
      "text/plain": [
       "796319"
      ]
     },
     "execution_count": 9,
     "metadata": {},
     "output_type": "execute_result"
    }
   ],
   "source": [
    "len(all_cong_bigrams_counts)"
   ]
  },
  {
   "cell_type": "code",
   "execution_count": 10,
   "metadata": {
    "collapsed": false
   },
   "outputs": [],
   "source": [
    "# list of num of documents each bigram appears in \n",
    "def drop_duplicates(x): \n",
    "    temp = x['bigrams']\n",
    "    x['bigrams'] = list(temp)\n",
    "    return x\n",
    "\n",
    "bigrams_nodups = all_cong_bigrams.map(drop_duplicates)\n",
    "bigrams_doc_count = bigrams_nodups.flatMap(lambda x: x['bigrams']).countByValue().items()"
   ]
  },
  {
   "cell_type": "code",
   "execution_count": 11,
   "metadata": {
    "collapsed": false
   },
   "outputs": [
    {
     "name": "stdout",
     "output_type": "stream",
     "text": [
      "The 99th ptile is 20 documents\n",
      "The 90th ptile is 4 documents\n",
      "The 80th ptile is 2 documents\n",
      "The 75th ptile is 2 documents\n",
      "The 60th ptile is 1 documents\n",
      "The 50th ptile is 1 documents\n",
      "The 40th ptile is 1 documents\n",
      "The 25th ptile is 1 documents\n",
      "The 15th ptile is 1 documents\n",
      "The 5th ptile is 1 documents\n"
     ]
    }
   ],
   "source": [
    "import numpy as np\n",
    "sorted_bigrams_doc_count = sorted(bigrams_doc_count, key=lambda x: x[1], reverse=True)\n",
    "doc_count = np.array([x[1] for x in sorted_bigrams_doc_count])\n",
    "print \"The 99th ptile is %d documents\" % np.percentile(doc_count, 99)\n",
    "print \"The 90th ptile is %d documents\" % np.percentile(doc_count, 90)\n",
    "print \"The 80th ptile is %d documents\" % np.percentile(doc_count, 80)\n",
    "print \"The 75th ptile is %d documents\" % np.percentile(doc_count, 75)\n",
    "print \"The 60th ptile is %d documents\" % np.percentile(doc_count, 60)\n",
    "print \"The 50th ptile is %d documents\" % np.percentile(doc_count, 50)\n",
    "print \"The 40th ptile is %d documents\" % np.percentile(doc_count, 40)\n",
    "print \"The 25th ptile is %d documents\" % np.percentile(doc_count, 25)\n",
    "print \"The 15th ptile is %d documents\" % np.percentile(doc_count, 15)\n",
    "print \"The 5th ptile is %d documents\" % np.percentile(doc_count, 5)"
   ]
  },
  {
   "cell_type": "code",
   "execution_count": 12,
   "metadata": {
    "collapsed": false
   },
   "outputs": [
    {
     "data": {
      "text/plain": [
       "11537"
      ]
     },
     "execution_count": 12,
     "metadata": {},
     "output_type": "execute_result"
    }
   ],
   "source": [
    "len([l for l in sorted_bigrams_doc_count if l[1]>15])"
   ]
  },
  {
   "cell_type": "code",
   "execution_count": 13,
   "metadata": {
    "collapsed": true
   },
   "outputs": [],
   "source": [
    "from random import shuffle\n",
    "def create_bigrams_rep_and_map(all_bigrams, dem_bigrams, rep_bigrams, doc_counts):\n",
    "    shuffle(all_bigrams)\n",
    "    \n",
    "    doc_cutoff = 15\n",
    "    top_both_cutoff = 50\n",
    "    total_mention_cutoff = 15\n",
    "    \n",
    "    # keep only with over cutoff mentions\n",
    "    rv = [l[0] for l in all_bigrams if l[1]>total_mention_cutoff]\n",
    "    \n",
    "    # not in top total_mention_cutoff of both rep and dem bigrams\n",
    "    top_rep = [l[0] for l in rep_bigrams[:top_both_cutoff]]\n",
    "    top_dem = [l[0] for l in dem_bigrams[:top_both_cutoff]]\n",
    "    top_both = [l for l in top_rep if l in top_dem]\n",
    "    rv = [l for l in rv if l not in top_both]\n",
    "    \n",
    "    # in more than doc_cutoff documents \n",
    "    bigrams_over_doc_cutoff = [l[0] for l in doc_counts if l[1]>doc_cutoff]\n",
    "    rv = [l for l in rv if l in bigrams_over_doc_cutoff]\n",
    "    \n",
    "    # Some extra crap\n",
    "    procedural_bigrams = [(u'remind', u'speaker'), (u'rollcal', u'motion'), (u'hous', u'major'),(u'file', u'amend'),\\\n",
    "                      (u'rollcal', u'motion'), (u'introduc', u'resolut'), (u'book', u'call'), (u'lehtinen', u'speaker'),\n",
    "                     (u'amend', u'minut'), (u'presid', u'speaker'), (u'oppos', u'bill'), (u'speaker', u'democrat'), (u'hous', u'chamber'), \n",
    "                    (u'congression', u'poverti'), (u'seventh', u'congression'), (u'amend', u'minut'), (u'opposit', u'call'), \n",
    "                     (u'inquir', u'schedul'),  (u'schedul', u'week'),  (u'bill', u'text'),  (u'move', u'suspend'),  (u'purpos', u'clerk'), \n",
    "                          (u'mile', u'colorado'),  (u'address', u'floor'),  (u'page', u'regul'),  (u'hollen', u'chairman'),  (u'read', u'title'), \n",
    "                          (u'text', u'bill'),  (u'barbara', u'lee'), (u'time', u'ms'), (u'build', u'clerk'), (u'house', u'meet'),(u'meet', u'noon'),\n",
    "                          (u'congresswoman', u'christensen'), (u'recomit', u'desk'), (u'capitol', u'due'), (u'read', u'titl'),(u'purpos', u'inquir'),\n",
    "                          (u'progress', u'messag'), (u'leader', u'harri'),(u'reed', u'bethesda'), (u'due', u'prior'),(u'unborn', u'children'), (u'recommit', u'desk')]\n",
    "    rv = [l for l in rv if l not in procedural_bigrams]\n",
    "    rv = [l for l in rv if 'democrat' not in l and 'republican' not in l and 'rollcal' not in l and 'bill' not in l]\n",
    "    rv = [l for l in rv if 'motion' not in l and 'speaker' not in l and 'dr' not in l and 'hour' not in l]\n",
    "    rv = [l for l in rv if 'house' not in l and 'meet' not in l and 'noon' not in l and 'repres' not in l and 'poverti' not in l]\n",
    "    rv = [l for l in rv if 'monday' not in l and 'hous' not in l and 'announc' not in l and 'clerk' not in l and 'whip' not in l]\n",
    "    rv = [l for l in rv if 'floor' not in l and 'week' not in l and 'tuesday' not in l and 'pass' not in l and 'postpon' not in l]\n",
    "\n",
    "    bigram_to_index = {}\n",
    "    index_to_bigram = {}\n",
    "    i = 1\n",
    "    for bigram in rv: \n",
    "        bigram_to_index[bigram] = i\n",
    "        i+=1 \n",
    "        index_to_bigram[i] = bigram\n",
    "    \n",
    "    return rv, bigram_to_index, index_to_bigram\n",
    "    "
   ]
  },
  {
   "cell_type": "code",
   "execution_count": 14,
   "metadata": {
    "collapsed": false
   },
   "outputs": [],
   "source": [
    "bigrams_list, bigram_to_index, index_to_bigram = create_bigrams_rep_and_map(all_cong_bigrams_counts, democrat_bigrams_counts, republican_bigrams_counts, sorted_bigrams_doc_count)"
   ]
  },
  {
   "cell_type": "code",
   "execution_count": 16,
   "metadata": {
    "collapsed": false
   },
   "outputs": [],
   "source": [
    "## INITIAL FILTERING AND THEN COLLECT ## requires filter function below \n",
    "temp_features = all_cong_bigrams.map(filter_features).collect()"
   ]
  },
  {
   "cell_type": "code",
   "execution_count": 17,
   "metadata": {
    "collapsed": false
   },
   "outputs": [],
   "source": [
    "def filter_on_unique_speakers(bigrams_list, features, cutoff): \n",
    "    ''' \n",
    "    Drops bigrams with less than <cutoff> unique speakers\n",
    "    '''\n",
    "    counts = {}\n",
    "    for bg in bigrams_list: \n",
    "        counts[bg] = []\n",
    "    for speaker in features: \n",
    "        for bg in speaker['features']: \n",
    "            if speaker not in counts[bg]: \n",
    "                counts[bg].append(speaker)\n",
    "    rv = [] \n",
    "    for bg in counts: \n",
    "        if len(counts[bg])>=cutoff: \n",
    "            rv.append(bg)\n",
    "    return rv \n",
    "\n",
    "bigrams_temp = filter_on_unique_speakers(bigrams_list, temp_features, 10)"
   ]
  },
  {
   "cell_type": "code",
   "execution_count": 18,
   "metadata": {
    "collapsed": false
   },
   "outputs": [
    {
     "name": "stdout",
     "output_type": "stream",
     "text": [
      "9998\n",
      "10247\n"
     ]
    }
   ],
   "source": [
    "print len(bigrams_temp)\n",
    "print len(bigrams_list)\n",
    "bigrams_list = bigrams_temp"
   ]
  },
  {
   "cell_type": "code",
   "execution_count": 19,
   "metadata": {
    "collapsed": false
   },
   "outputs": [
    {
     "name": "stdout",
     "output_type": "stream",
     "text": [
      "Our representation has 9998 bigrams\n"
     ]
    }
   ],
   "source": [
    "num_bigrams = len(bigrams_list)\n",
    "bc_bigram_to_index = sc.broadcast(bigram_to_index)\n",
    "bc_index_to_bigram = sc.broadcast(index_to_bigram)\n",
    "print \"Our representation has %d bigrams\" %num_bigrams"
   ]
  },
  {
   "cell_type": "markdown",
   "metadata": {},
   "source": [
    "## SGD with Logit"
   ]
  },
  {
   "cell_type": "code",
   "execution_count": 15,
   "metadata": {
    "collapsed": false
   },
   "outputs": [],
   "source": [
    "# SGD HELPER FUNCTIONS #\n",
    "# -------------------- #\n",
    "import math \n",
    "import matplotlib.pyplot as plt\n",
    "%matplotlib inline\n",
    "import numpy as np\n",
    "import requests\n",
    "import random\n",
    "\n",
    "def initialize_betas(num_bigrams): \n",
    "    \"\"\" \n",
    "    Initializes an ordered of betas, one for each bigram + a constant\n",
    "    \"\"\"\n",
    "    return [0.0]*(num_bigrams+1)\n",
    "\n",
    "\n",
    "def run_logit(betas, active_features): \n",
    "    \"\"\" \n",
    "    Sums beta vals for all active features and returns 1/(1+e^(-sum betas)), the predicted classification\n",
    "    \"\"\"\n",
    "    sum_betas = 0.0\n",
    "    for bigram in active_features: \n",
    "        sum_betas += betas[bc_bigram_to_index.value[bigram]]\n",
    "    # add constant\n",
    "    sum_betas += betas[0]\n",
    "    \n",
    "    return float(math.exp(sum_betas))/(1+math.exp(sum_betas))\n",
    "    \n",
    "def run_sgd_once(all_cong, betas, eta_func, num_seen, misclassified, iter_num):\n",
    "    i = 0\n",
    "    misclassified = 0\n",
    "    random.shuffle(all_cong)\n",
    "    for speech in all_cong:\n",
    "        num_seen += 1\n",
    "        logit_pred = run_logit(betas, speech['features'])\n",
    "        eta = eta_func(num_seen)\n",
    "        change_to_betas = eta*(int(speech['party']) - logit_pred)\n",
    "        betas[0] += change_to_betas\n",
    "        for bigram in speech['features']: \n",
    "            betas[bc_bigram_to_index.value[bigram]] += change_to_betas\n",
    "        if int(speech['party']) != int(round(logit_pred,0)): #np.sign(logit_pred):\n",
    "            misclassified += 1\n",
    "        \n",
    "    return num_seen, misclassified, betas\n",
    "    \n",
    "       \n",
    "def run_sgd_Ntimes(N, eta_func, all_cong_train, all_cong_test, num_bigrams): \n",
    "    \"\"\" \n",
    "    Runs SGD N times over entire speech list, continually updating betas and preds \n",
    "    \"\"\"\n",
    "    betas = initialize_betas(num_bigrams)\n",
    "    misclassified = 0\n",
    "    num_seen = 0\n",
    "    test_error = [] \n",
    "    train_error =[]\n",
    "    # Initial error (betas all 0)\n",
    "    pred_test_0, pred_error_test_0 = make_predictions(betas, all_cong_test)\n",
    "    pred_train_0, pred_error_train_0 = make_predictions(betas, all_cong_train)\n",
    "    test_error.append([0, pred_error_test_0])\n",
    "    train_error.append([0, pred_error_train_0])\n",
    "    \n",
    "    i = 1 \n",
    "    while i <= N: \n",
    "        num_seen, misclassified, betas = run_sgd_once(all_cong_train, betas, eta_func, num_seen, misclassified, i)\n",
    "        predictions, pred_error = make_predictions(betas, all_cong_test)\n",
    "        test_error.append([i, pred_error])\n",
    "        train_error.append([i, float(misclassified)/(num_seen/i)])\n",
    "        i+=1 \n",
    "        \n",
    "    return misclassified, num_seen, betas, test_error, train_error\n",
    "\n",
    "def make_predictions(betas, data): \n",
    "    num_seen = 0\n",
    "    misclassified = 0\n",
    "    predictions = []\n",
    "    for speech in data:\n",
    "        num_seen+=1 \n",
    "        logit_pred = run_logit(betas, speech['features'])\n",
    "        pred = int(round(logit_pred,0))\n",
    "        if int(speech['party']) != pred: \n",
    "            misclassified += 1\n",
    "    return predictions, float(misclassified)/num_seen\n",
    "    "
   ]
  },
  {
   "cell_type": "code",
   "execution_count": 15,
   "metadata": {
    "collapsed": true
   },
   "outputs": [],
   "source": [
    "def filter_features(x):\n",
    "    x['features'] = [l for l in x['bigrams'] if l in bigrams_list]\n",
    "    for i in range(len(x['features'])):\n",
    "        if x['features'][i]==(u'unborn', u'children'): \n",
    "            x['features'][i]=(u'unborn', u'child')\n",
    "    x['num_bigrams'] = len(x['bigrams'])\n",
    "    x['num_features'] = len(x['features'])\n",
    "    x.pop('bigrams')\n",
    "    x.pop('words')\n",
    "    return x\n",
    "\n",
    "all_cong_features = all_cong_bigrams.map(filter_features)\n"
   ]
  },
  {
   "cell_type": "code",
   "execution_count": 279,
   "metadata": {
    "collapsed": false
   },
   "outputs": [],
   "source": [
    "all_cong_features_train, all_cong_features_test = all_cong_features.randomSplit([.7, .3])\n",
    "all_cong_features_train = all_cong_features_train.collect()\n",
    "all_cong_features_test = all_cong_features_test.collect()"
   ]
  },
  {
   "cell_type": "code",
   "execution_count": 280,
   "metadata": {
    "collapsed": false
   },
   "outputs": [],
   "source": [
    "def eta_1(x): \n",
    "    return 1/math.sqrt(x)\n",
    "\n",
    "def eta_2(x): \n",
    "    return .1/x\n",
    "\n",
    "def eta_3(x): \n",
    "    return .1\n",
    "\n",
    "random.seed(20)\n",
    "N = 50\n",
    "error_rate = []\n",
    "misclassified, num_seen, betas, test_error, train_error = run_sgd_Ntimes(N, eta_1, all_cong_features_train, all_cong_features_test, num_bigrams)"
   ]
  },
  {
   "cell_type": "code",
   "execution_count": 272,
   "metadata": {
    "collapsed": false
   },
   "outputs": [],
   "source": [
    "betas_rank = []\n",
    "n = 25\n",
    "for i in range(len(betas)): \n",
    "    betas_rank.append((betas[i], i))\n",
    "betas_rank.sort(key = lambda x: x[0])\n",
    "lowest_betas = betas_rank[:n]\n",
    "highest_betas = betas_rank[-n:]"
   ]
  },
  {
   "cell_type": "code",
   "execution_count": 273,
   "metadata": {
    "collapsed": false
   },
   "outputs": [
    {
     "name": "stdout",
     "output_type": "stream",
     "text": [
      "MOST LIBERAL \n",
      " ----------\n",
      "(u'emerg', u'medic')\t\t -2.23064011162\n",
      "(u'afghanistan', u'war')\t\t -2.06928451603\n",
      "(u'economi', u'congress')\t\t -1.29527684359\n",
      "(u'electr', u'power')\t\t -1.29005886515\n",
      "(u'peopl', u'get')\t\t -1.23126158525\n",
      "(u'spend', u'plan')\t\t -1.15398249822\n",
      "(u'send', u'signal')\t\t -1.04320309339\n",
      "(u'lehtinen', u'speaker')\t\t -1.01304538581\n",
      "(u'hit', u'hard')\t\t -1.01009102389\n",
      "(u'region', u'presid')\t\t -0.970140316569\n",
      "(u'america', u'financi')\t\t -0.966624636113\n",
      "(u'home', u'health')\t\t -0.95653573293\n",
      "(u'space', u'program')\t\t -0.94289427906\n",
      "(u'talk', u'balanc')\t\t -0.910510450974\n",
      "(u'discuss', u'floor')\t\t -0.898195468882\n",
      "(u'dollar', u'taxpay')\t\t -0.888699111801\n",
      "(u'equal', u'divid')\t\t -0.870583094841\n",
      "(u'spend', u'health')\t\t -0.857671517804\n",
      "(u'allow', u'vote')\t\t -0.854951074261\n",
      "(u'amend', u'minut')\t\t -0.848567934682\n",
      "(u'messag', u'american')\t\t -0.825288126854\n",
      "(u'polici', u'feder')\t\t -0.822374951324\n",
      "(u'oppos', u'bill')\t\t -0.804689155683\n",
      "(u'presid', u'speaker')\t\t -0.80360880456\n",
      "(u'abus', u'power')\t\t -0.797472960094\n"
     ]
    }
   ],
   "source": [
    "print \"MOST LIBERAL \\n ----------\"\n",
    "for i in range(n): \n",
    "    if lowest_betas[i][1]!=0:\n",
    "        print str(index_to_bigram[lowest_betas[i][1]]) + \"\\t\\t \" + str(lowest_betas[i][0])"
   ]
  },
  {
   "cell_type": "code",
   "execution_count": 274,
   "metadata": {
    "collapsed": false
   },
   "outputs": [
    {
     "name": "stdout",
     "output_type": "stream",
     "text": [
      "MOST CONSERVATIVE \n",
      " ----------\n",
      "(u'question', u'rais')\t\t 3.43564871188\n",
      "(u'current', u'plan')\t\t 2.3224937342\n",
      "(u'id', u'law')\t\t 1.72886979759\n",
      "(u'deserv', u'support')\t\t 1.58261790335\n",
      "(u'result', u'billion')\t\t 1.38053709402\n",
      "(u'parti', u'control')\t\t 1.31622017344\n",
      "(u'speaker', u'democrat')\t\t 1.22911615236\n",
      "(u'congress', u'republican')\t\t 1.19484456656\n",
      "(u'oil', u'don')\t\t 1.14562878566\n",
      "(u'budget', u'chairman')\t\t 1.14181224129\n",
      "(u'medic', u'liabil')\t\t 1.13441809965\n",
      "(u'republican', u'will')\t\t 1.10777979044\n",
      "(u'situat', u'wors')\t\t 1.05682584088\n",
      "(u'histori', u'book')\t\t 1.0335771315\n",
      "(u'issu', u'congress')\t\t 1.00997337797\n",
      "(u'access', u'american')\t\t 0.930321389109\n",
      "(u'follow', u'law')\t\t 0.897337895028\n",
      "(u'hous', u'chamber')\t\t 0.88822699272\n",
      "(u'forest', u'servic')\t\t 0.884435689106\n",
      "(u'peopl', u'hous')\t\t 0.875982994612\n",
      "(u're', u'rais')\t\t 0.875379486414\n",
      "(u'child', u'born')\t\t 0.874972163928\n",
      "(u'econom', u'analysi')\t\t 0.864112959925\n",
      "(u'look', u'time')\t\t 0.855520709141\n",
      "(u'act', u'colleagu')\t\t 0.855486987643\n"
     ]
    }
   ],
   "source": [
    "print \"MOST CONSERVATIVE \\n ----------\"\n",
    "for i in range(n): \n",
    "    print str(index_to_bigram[highest_betas[n-i-1][1]]) + \"\\t\\t \" + str(highest_betas[n-i-1][0])"
   ]
  },
  {
   "cell_type": "code",
   "execution_count": 275,
   "metadata": {
    "collapsed": false
   },
   "outputs": [
    {
     "data": {
      "image/png": "[encoded data removed]",
      "text/plain": [
       "<matplotlib.figure.Figure at 0x137c3c190>"
      ]
     },
     "metadata": {},
     "output_type": "display_data"
    },
    {
     "name": "stdout",
     "output_type": "stream",
     "text": [
      "Final testing error: 0.183851292477\n",
      "Final training error: 0.0719186473903\n"
     ]
    }
   ],
   "source": [
    "train_er = np.array(train_error)\n",
    "test_er = np.array(test_error)\n",
    "plt.plot(train_er[:,0], train_er[:,1])\n",
    "plt.plot(test_er[:,0], test_er[:,1])\n",
    "plt.title(\"Error Rate\", fontsize=20)\n",
    "plt.xlabel(\"Iterations through Data\", fontsize=14)\n",
    "plt.ylabel(\"Error Rate\", fontsize=14)\n",
    "plt.ylim(0)\n",
    "plt.show()\n",
    "\n",
    "print \"Final testing error: \" + str(test_er[-1][1])\n",
    "print \"Final training error: \" + str(train_er[-1][1])"
   ]
  },
  {
   "cell_type": "markdown",
   "metadata": {},
   "source": [
    "# Collapsing to Speaker Level \n",
    "Merge bigrams to have speakers-all_bigrams. Keep only House of Representatives. "
   ]
  },
  {
   "cell_type": "code",
   "execution_count": 20,
   "metadata": {
    "collapsed": false
   },
   "outputs": [],
   "source": [
    "all_features = all_cong_features.collect()"
   ]
  },
  {
   "cell_type": "code",
   "execution_count": 21,
   "metadata": {
    "collapsed": false
   },
   "outputs": [],
   "source": [
    "final_features = {}\n",
    "for f in all_features: \n",
    "    name = f['speaker']\n",
    "    if f['chamber'] == 'senate':\n",
    "        continue \n",
    "    if name not in final_features: \n",
    "        final_features[name] = {} \n",
    "    if 'features' not in final_features[name]:\n",
    "        final_features[name]['features'] = []\n",
    "        final_features[name]['chamber'] = f['chamber']\n",
    "        final_features[name]['dwnom1'] = f['dwnom1']\n",
    "        final_features[name]['dwnom2'] = f['dwnom2']\n",
    "        final_features[name]['party'] = f['party']\n",
    "    final_features[name]['features'] += f['features']"
   ]
  },
  {
   "cell_type": "code",
   "execution_count": 22,
   "metadata": {
    "collapsed": false
   },
   "outputs": [
    {
     "data": {
      "text/plain": [
       "9998"
      ]
     },
     "execution_count": 22,
     "metadata": {},
     "output_type": "execute_result"
    }
   ],
   "source": [
    "len(bigrams_list)"
   ]
  },
  {
   "cell_type": "markdown",
   "metadata": {
    "collapsed": true
   },
   "source": [
    "# Summary Statistics"
   ]
  },
  {
   "cell_type": "markdown",
   "metadata": {
    "collapsed": false
   },
   "source": [
    "### Number of Speakers"
   ]
  },
  {
   "cell_type": "code",
   "execution_count": 23,
   "metadata": {
    "collapsed": false
   },
   "outputs": [
    {
     "name": "stdout",
     "output_type": "stream",
     "text": [
      "There are 408 unique speakers\n",
      "224 of which are Republican\n"
     ]
    }
   ],
   "source": [
    "all_speakers = set() \n",
    "ac = all_cong.collect()\n",
    "for speech in ac: \n",
    "    if (speech['speaker'], speech['party'], speech['chamber']) not in all_speakers: \n",
    "        all_speakers.add((speech['speaker'], speech['party'], speech['chamber']))\n",
    "all_speakers = [l for l in list(all_speakers) if l[2]!='senate']\n",
    "print \"There are %d unique speakers\" % len(all_speakers)\n",
    "print \"%d of which are Republican\" % len([l for l in all_speakers if l[1]==1])"
   ]
  },
  {
   "cell_type": "code",
   "execution_count": 28,
   "metadata": {
    "collapsed": false
   },
   "outputs": [
    {
     "name": "stdout",
     "output_type": "stream",
     "text": [
      "Average words per speech: 418\n",
      "Number of speeches: 11605 \n"
     ]
    }
   ],
   "source": [
    "def num_words(x): \n",
    "    x = len(x['text'].split())\n",
    "    return x\n",
    "num_speeches = all_cong.count()\n",
    "print \"Average words per speech: \" + str(all_cong.map(num_words).reduce(lambda a, b: a+b)/num_speeches)\n",
    "print \"Number of speeches: %d \" % num_speeches"
   ]
  },
  {
   "cell_type": "code",
   "execution_count": 25,
   "metadata": {
    "collapsed": false
   },
   "outputs": [
    {
     "name": "stdout",
     "output_type": "stream",
     "text": [
      "Average number of active features:\n"
     ]
    },
    {
     "data": {
      "text/plain": [
       "946.5171568627451"
      ]
     },
     "execution_count": 25,
     "metadata": {},
     "output_type": "execute_result"
    }
   ],
   "source": [
    "num_feats = [] \n",
    "for i in range(len(final_features.keys())):\n",
    "    num_feats.append(len(final_features[final_features.keys()[i]]['features']))\n",
    "print \"Average number of active features:\"\n",
    "reduce(lambda x, y: x+y, num_feats)/float(len(num_feats))"
   ]
  },
  {
   "cell_type": "code",
   "execution_count": 27,
   "metadata": {
    "collapsed": false
   },
   "outputs": [
    {
     "name": "stdout",
     "output_type": "stream",
     "text": [
      "Average active features per speech: 37\n"
     ]
    }
   ],
   "source": [
    "def num_features(x): \n",
    "    x = len(x['features'])\n",
    "    return x\n",
    "print \"Average active features per speech: \" + str(all_cong_features.map(num_features).reduce(lambda a, b: a+b)/all_cong_features.count())"
   ]
  },
  {
   "cell_type": "markdown",
   "metadata": {},
   "source": [
    "# Exporting to Use in R\n",
    "Convert to 2d matrix then save as MM to read in R. Already have bigram_to_index dictionary, but need to update it to make room so first 4 cols are [speaker, party, dwnom1, dwnom2]. Also need speaker_to_index dictionary so that we can navigate the 2d matrix. \n",
    "\n",
    "THIS MAKES THEM INTO COUNTS, NOT BINARY"
   ]
  },
  {
   "cell_type": "code",
   "execution_count": 29,
   "metadata": {
    "collapsed": true
   },
   "outputs": [],
   "source": [
    "speaker_to_index = {} \n",
    "index_to_speaker = {}\n",
    "i = 0\n",
    "for speaker in all_speakers: \n",
    "    speaker_to_index[speaker[0]] = i\n",
    "    index_to_speaker[i] = speaker[0]\n",
    "    i+=1\n",
    "\n",
    "bigram_to_index_2 = {}\n",
    "i = 3\n",
    "for bg in bigrams_list: \n",
    "    bigram_to_index_2[bg] = i\n",
    "    i+=1\n",
    "index_to_bigram_2 = {}\n",
    "for key in bigram_to_index_2: \n",
    "    index_to_bigram_2[bigram_to_index_2[key]] = key"
   ]
  },
  {
   "cell_type": "code",
   "execution_count": 30,
   "metadata": {
    "collapsed": false
   },
   "outputs": [],
   "source": [
    "len_bg = len(bigrams_list)+3\n",
    "len_as = len(all_speakers)\n",
    "main = [[0]*len_bg for _ in range(len_as)]"
   ]
  },
  {
   "cell_type": "code",
   "execution_count": 31,
   "metadata": {
    "collapsed": false
   },
   "outputs": [],
   "source": [
    "for speaker in final_features: \n",
    "    main[speaker_to_index[speaker]][0] = int(final_features[speaker]['party'])\n",
    "    main[speaker_to_index[speaker]][1] = float(final_features[speaker]['dwnom1'])\n",
    "    main[speaker_to_index[speaker]][2] = float(final_features[speaker]['dwnom2'])\n",
    "    for feature in final_features[speaker]['features']: \n",
    "        main[speaker_to_index[speaker]][bigram_to_index_2[feature]] += 1"
   ]
  },
  {
   "cell_type": "code",
   "execution_count": 32,
   "metadata": {
    "collapsed": false
   },
   "outputs": [],
   "source": [
    "covars = np.asmatrix(main)[:,:3]\n",
    "cong2012 = np.asmatrix(main)[:,3:]"
   ]
  },
  {
   "cell_type": "code",
   "execution_count": 33,
   "metadata": {
    "collapsed": false
   },
   "outputs": [],
   "source": [
    "covars_speaker_names = [[l[0].replace(\".\", \"\")] for l in all_speakers]\n",
    "covars_colnames = [\"speaker\", \"party\", \"dwnom1\", \"dwnom2\"]\n",
    "covars = np.asmatrix(main)[:,:3].tolist()\n",
    "covars = np.asarray([covars_colnames] + [l[0]+l[1] for l in zip(covars_speaker_names, covars)])"
   ]
  },
  {
   "cell_type": "code",
   "execution_count": 34,
   "metadata": {
    "collapsed": false
   },
   "outputs": [
    {
     "name": "stdout",
     "output_type": "stream",
     "text": [
      "9998\n"
     ]
    }
   ],
   "source": [
    "cong2012_list = cong2012.tolist()\n",
    "print len(cong2012_list[0])\n",
    "cong2012_colnames =  [l[0]+\".\"+l[1] for l in bigrams_list]\n",
    "cong2012_list = [cong2012_colnames] + cong2012_list"
   ]
  },
  {
   "cell_type": "code",
   "execution_count": 35,
   "metadata": {
    "collapsed": true
   },
   "outputs": [],
   "source": [
    "covars = covars.tolist()\n",
    "for i in [333, 13]: # Two candidates with super weird SR projections. Ditch em.  \n",
    "    del cong2012_list[i]\n",
    "    del covars[i]"
   ]
  },
  {
   "cell_type": "code",
   "execution_count": 36,
   "metadata": {
    "collapsed": false,
    "scrolled": true
   },
   "outputs": [
    {
     "name": "stdout",
     "output_type": "stream",
     "text": [
      "wisdom.strength\n",
      "pleas.god\n",
      "obama.eye\n",
      "senat.eye\n",
      "madam.presid\n",
      "presid.rise\n",
      "uniform.god\n",
      "absenc.quorum\n",
      "suggest.absenc\n",
      "bless.women\n",
      "leg.arm\n",
      "close.god\n",
      "lejeun.marin\n",
      "iraq.god\n",
      "proceed.call\n",
      "arm.hold\n"
     ]
    }
   ],
   "source": [
    "# this makes sure that there are at least 2 unique speakers for each bigram. Somehow a few snuck through the previous filter\n",
    "maxes = []\n",
    "indices = []\n",
    "bad_bgs = []\n",
    "t = np.asarray(cong2012_list)\n",
    "for i in range(0, len(t[0])): \n",
    "    new_max = max(t[1:][:,i])\n",
    "    if float(new_max)==0:\n",
    "        print t[0][i]\n",
    "        indices.append(i)\n",
    "        bad_bgs.append(t[0][i])\n",
    "    maxes.append(new_max)\n",
    "indices = sorted(indices, reverse=True)\n",
    "for row in cong2012_list: \n",
    "    for i in indices: \n",
    "        del row[i]"
   ]
  },
  {
   "cell_type": "code",
   "execution_count": 45,
   "metadata": {
    "collapsed": false
   },
   "outputs": [],
   "source": [
    "#cong2012_final[0] = [str(0) for l in cong2012_final[0]]\n",
    "import csv\n",
    "f = csv.writer(open(\"../../ECON_407/Primary Elections/R/covars.csv\", \"wb+\"))\n",
    "for row in covars: \n",
    "    f.writerow(row)"
   ]
  },
  {
   "cell_type": "code",
   "execution_count": 54,
   "metadata": {
    "collapsed": true
   },
   "outputs": [],
   "source": [
    "f2 = csv.writer(open(\"../../ECON_407/Primary Elections/R/cong2012counts.csv\", \"wb+\"))\n",
    "for row in cong2012_list: \n",
    "    f2.writerow(row)"
   ]
  },
  {
   "cell_type": "code",
   "execution_count": 40,
   "metadata": {
    "collapsed": false
   },
   "outputs": [],
   "source": [
    "subsamp = np.asarray(cong2012_list)#[:,:1500]"
   ]
  },
  {
   "cell_type": "code",
   "execution_count": 39,
   "metadata": {
    "collapsed": false
   },
   "outputs": [
    {
     "name": "stdout",
     "output_type": "stream",
     "text": [
      "407\n",
      "9982\n",
      "9998\n",
      "16\n"
     ]
    }
   ],
   "source": [
    "print len(cong2012_list)\n",
    "print len(cong2012_list[0])\n",
    "print len(bigrams_list)\n",
    "print len(bad_bgs)"
   ]
  },
  {
   "cell_type": "markdown",
   "metadata": {},
   "source": [
    "# Candidates Polarization"
   ]
  },
  {
   "cell_type": "code",
   "execution_count": 40,
   "metadata": {
    "collapsed": true
   },
   "outputs": [],
   "source": [
    "candidate_features = candidates_bigrams.map(filter_features)"
   ]
  },
  {
   "cell_type": "code",
   "execution_count": 41,
   "metadata": {
    "collapsed": false
   },
   "outputs": [],
   "source": [
    "cand_feats = candidate_features.collect()\n",
    "cand_feats = cand_feats[1:]"
   ]
  },
  {
   "cell_type": "markdown",
   "metadata": {},
   "source": [
    "### Collapse to speaker-month-features"
   ]
  },
  {
   "cell_type": "code",
   "execution_count": 42,
   "metadata": {
    "collapsed": false
   },
   "outputs": [],
   "source": [
    "set_dates = set()\n",
    "for item in cand_feats: \n",
    "    set_dates.add(item['date'][2:])"
   ]
  },
  {
   "cell_type": "code",
   "execution_count": 43,
   "metadata": {
    "collapsed": false
   },
   "outputs": [],
   "source": [
    "final_cand_feats = {}\n",
    "for item in cand_feats:\n",
    "    name = item['speaker']\n",
    "    date = item['date'].strip()[2:]\n",
    "    if name not in final_cand_feats:\n",
    "        final_cand_feats[name] = {} \n",
    "    if date not in final_cand_feats[name]: \n",
    "        final_cand_feats[name][date] = {}\n",
    "    if 'features' not in final_cand_feats[name][date]:\n",
    "        final_cand_feats[name][date]['features'] = [] \n",
    "        final_cand_feats[name][date]['num_bigrams'] = 0\n",
    "        final_cand_feats[name][date]['num_features'] = 0\n",
    "    final_cand_feats[name][date]['features'] += [l[0]+\".\"+l[1] for l in item['features']]\n",
    "    final_cand_feats[name][date]['num_bigrams'] += item['num_bigrams']\n",
    "    final_cand_feats[name][date]['num_features'] += item['num_features']       "
   ]
  },
  {
   "cell_type": "markdown",
   "metadata": {},
   "source": [
    "### DON'T USE THIS ANYMORE: Read in betas from R (saved in csv)"
   ]
  },
  {
   "cell_type": "code",
   "execution_count": 1307,
   "metadata": {
    "collapsed": false,
    "scrolled": false
   },
   "outputs": [],
   "source": [
    "feats_coefs = {}\n",
    "with open(\"../../ECON_407/Primary Elections/R/coefs.csv\", 'rU') as csvfile:\n",
    "    reader = csv.reader(csvfile, delimiter=',', quotechar='|')\n",
    "    for row in reader:\n",
    "         feats_coefs[row[0]] = row[1]"
   ]
  },
  {
   "cell_type": "markdown",
   "metadata": {},
   "source": [
    "### Add in sum of features coefs to the final_cand_features dictionary for each speaker-month"
   ]
  },
  {
   "cell_type": "code",
   "execution_count": 1308,
   "metadata": {
    "collapsed": false
   },
   "outputs": [],
   "source": [
    "def score_monthly_candiates(coefs, features_dict): \n",
    "    rv = {}\n",
    "    for speaker in features_dict:\n",
    "        rv[speaker] = {} \n",
    "        for date in features_dict[speaker]:\n",
    "            rv[speaker][date] = {} \n",
    "            rv[speaker][date]['num_bigrams'] = features_dict[speaker][date]['num_bigrams']\n",
    "            rv[speaker][date]['num_features'] = features_dict[speaker][date]['num_features']\n",
    "            rv[speaker][date]['score'] = 0.0\n",
    "            for feat in features_dict[speaker][date]['features']: \n",
    "                if feat in coefs: \n",
    "                    rv[speaker][date]['score'] += float(coefs[feat])\n",
    "    return rv\n",
    "\n",
    "cand_scores = score_monthly_candiates(feats_coefs, final_cand_feats)"
   ]
  },
  {
   "cell_type": "code",
   "execution_count": 1309,
   "metadata": {
    "collapsed": false
   },
   "outputs": [],
   "source": [
    "from datetime import datetime\n",
    "def convert_date(date): \n",
    "    date = date[:3] + \" \" + date[3:]\n",
    "    return datetime.strptime(date, '%b %Y') #matplotlib.dates.date2num(\n",
    "\n",
    "def create_cand_scores(candidate): \n",
    "    rv = []\n",
    "    for speaker in cand_scores: \n",
    "        for date in cand_scores[speaker]: \n",
    "            if speaker==candidate and cand_scores[speaker][date]['num_features']!=0: \n",
    "                rv.append([convert_date(date), cand_scores[speaker][date]['score'], cand_scores[speaker][date]['score']/cand_scores[speaker][date]['num_features'],\\\n",
    "                           cand_scores[speaker][date]['score']/cand_scores[speaker][date]['num_bigrams'], cand_scores[speaker][date]['num_features'],\\\n",
    "                           cand_scores[speaker][date]['num_bigrams']])       \n",
    "    return sorted(rv, key = lambda x: x[0])\n",
    "\n",
    "romney = create_cand_scores(\"Mitt Romney\")\n",
    "gingrich = create_cand_scores(\"Newt Gingrich\")\n",
    "paul = create_cand_scores(\"Ron Paul\")\n",
    "obama = create_cand_scores(\"Barack Obama\")\n",
    "cain = create_cand_scores(\"Herman Cain\")\n",
    "santorum = create_cand_scores(\"Rick Santorum\")\n",
    "perry = create_cand_scores(\"Rick Perry\")\n",
    "bachmann = create_cand_scores(\"Michele Bachmann\")\n",
    "huntsman = create_cand_scores(\"Jon Huntsman\")\n",
    "pawlenty = create_cand_scores(\"Tim Pawlenty\")\n"
   ]
  },
  {
   "cell_type": "code",
   "execution_count": 1310,
   "metadata": {
    "collapsed": false
   },
   "outputs": [],
   "source": [
    "def reduce_to_bimonthly(cand_scores): \n",
    "    rv = []\n",
    "    if len(cand_scores)%2==0: \n",
    "        range_nums = range(0, len(cand_scores),2)\n",
    "    else: \n",
    "        range_nums = range(0, len(cand_scores)-1,2)\n",
    "    for i in range_nums:\n",
    "        total = cand_scores[i][1]+cand_scores[i+1][1]\n",
    "        by_feat = total/(cand_scores[i][4]+cand_scores[i+1][4])\n",
    "        by_bigram = total/(cand_scores[i][5]+cand_scores[i+1][5])\n",
    "        rv.append([cand_scores[i][0], total, by_feat, by_bigram])\n",
    "    if len(cand_scores)%2!=0:\n",
    "        rv.append([cand_scores[-1][0], cand_scores[-1][1], cand_scores[-1][2], cand_scores[-1][3]])\n",
    "    return rv"
   ]
  },
  {
   "cell_type": "markdown",
   "metadata": {},
   "source": [
    "## Exporting Candidate Vectors to Use in R"
   ]
  },
  {
   "cell_type": "code",
   "execution_count": 46,
   "metadata": {
    "collapsed": false
   },
   "outputs": [],
   "source": [
    "# List of all candidate-date combos\n",
    "all_cand_dates = []\n",
    "for speaker in final_cand_feats:\n",
    "    for date in final_cand_feats[speaker]:\n",
    "        all_cand_dates.append(str(speaker.split()[0])+\"_\"+str(speaker.split()[1])+\"_\"+str(date))"
   ]
  },
  {
   "cell_type": "code",
   "execution_count": 47,
   "metadata": {
    "collapsed": false
   },
   "outputs": [],
   "source": [
    "# Intialize and fill main array \n",
    "len_cd = len(all_cand_dates)\n",
    "len_feats = len(cong2012_list[0])\n",
    "main_cand = [[0]*len_feats for _ in range(len_cd)]\n",
    "for speaker in final_cand_feats:\n",
    "    for date in final_cand_feats[speaker]:\n",
    "        key = str(speaker.split()[0])+\"_\"+str(speaker.split()[1])+\"_\"+str(date)\n",
    "        ind_r = all_cand_dates.index(key)\n",
    "        for feat in final_cand_feats[speaker][date]['features']:\n",
    "            if feat not in bad_bgs and feat in cong2012_list[0]: #list of ones that have <2 congressmen saying them for whatever reason \n",
    "                ind_c = cong2012_list[0].index(feat)\n",
    "                main_cand[ind_r][ind_c]+=1"
   ]
  },
  {
   "cell_type": "code",
   "execution_count": 48,
   "metadata": {
    "collapsed": false
   },
   "outputs": [],
   "source": [
    "# Add header of bigram names\n",
    "main_cand_final = [cong2012_list[0]] + main_cand\n",
    "assert(len(main_cand_final)==len_cd+1)"
   ]
  },
  {
   "cell_type": "code",
   "execution_count": 49,
   "metadata": {
    "collapsed": false
   },
   "outputs": [],
   "source": [
    "# convert to csv [should have 103 rows]\n",
    "f3 = csv.writer(open(\"../../ECON_407/Primary Elections/R/pres_cand_counts.csv\", \"wb+\"))\n",
    "for row in main_cand_final: \n",
    "    f3.writerow(row)"
   ]
  },
  {
   "cell_type": "code",
   "execution_count": 55,
   "metadata": {
    "collapsed": false
   },
   "outputs": [],
   "source": [
    "# Create csv of Candidate - Date that aligns with above \n",
    "f4 = csv.writer(open(\"../../ECON_407/Primary Elections/R/cand_date_labels.csv\", \"wb+\"))\n",
    "for cand in all_cand_dates: \n",
    "    rv = cand.split(\"_\")\n",
    "    f4.writerow([rv[1], rv[2]])"
   ]
  },
  {
   "cell_type": "code",
   "execution_count": 69,
   "metadata": {
    "collapsed": false
   },
   "outputs": [],
   "source": [
    "## TOTAL SPEECH BY MONTH ## \n",
    "import pickle\n",
    "romney_counts = []\n",
    "for i in range(len(all_cand_dates)): \n",
    "    if all_cand_dates[i][:4]==\"Mitt\": \n",
    "        romney_counts.append([all_cand_dates[i][-7:], np.sum(main_cand_final[i])])\n",
    "pickle.dump(romney_counts, open(\"romney_counts.p\", \"wb\"))"
   ]
  },
  {
   "cell_type": "code",
   "execution_count": 64,
   "metadata": {
    "collapsed": false
   },
   "outputs": [
    {
     "data": {
      "text/plain": [
       "'apr2012'"
      ]
     },
     "execution_count": 64,
     "metadata": {},
     "output_type": "execute_result"
    }
   ],
   "source": [
    "all_cand_dates[15][-7:]"
   ]
  },
  {
   "cell_type": "markdown",
   "metadata": {
    "collapsed": false
   },
   "source": [
    "### Romney & Obama Pre-Post Election"
   ]
  },
  {
   "cell_type": "code",
   "execution_count": 57,
   "metadata": {
    "collapsed": false
   },
   "outputs": [],
   "source": [
    "pre_post_rows = [\"Romney_primary\", \"Romney_general\", \"Obama_primary\", \"Obama_general\", \"Bachmann_primary\", \"Bachmann_general\", \"Paul_primary\", \"Paul_general\"]\n",
    "main_pre_post = [[0]*len_feats for _ in range(len(pre_post_rows))]\n",
    "for speaker in final_cand_feats:\n",
    "    if speaker!=\"Mitt Romney\" and speaker!=\"Barack Obama\" and speaker!=\"Michele Bachmann\" and speaker!=\"Ron Paul\": \n",
    "        continue\n",
    "    for date in final_cand_feats[speaker]:\n",
    "        month = date[:3]\n",
    "        year = date[3:]\n",
    "        name = speaker.split()[1]\n",
    "        if (year=='2012' and month in ['jun', 'jul', 'aug', 'sep', 'oct']) or (year==\"2011\" and month in ['nov','dec']):\n",
    "            ind1 = pre_post_rows.index(name+\"_general\")\n",
    "        else: \n",
    "            ind1 = pre_post_rows.index(name+\"_primary\")\n",
    "        for feat in final_cand_feats[speaker][date]['features']: \n",
    "            main_pre_post[ind1][cong2012_list[0].index(feat)] +=1\n",
    "            \n",
    "main_pre_post = [cong2012_list[0]] + main_pre_post"
   ]
  },
  {
   "cell_type": "code",
   "execution_count": 58,
   "metadata": {
    "collapsed": false
   },
   "outputs": [],
   "source": [
    "f5 = csv.writer(open(\"../../ECON_407/Primary Elections/R/pre_post_counts_2.csv\", \"wb+\"))\n",
    "for row in main_pre_post: \n",
    "    f5.writerow(row)"
   ]
  },
  {
   "cell_type": "code",
   "execution_count": null,
   "metadata": {
    "collapsed": false
   },
   "outputs": [],
   "source": []
  },
  {
   "cell_type": "code",
   "execution_count": 56,
   "metadata": {
    "collapsed": false
   },
   "outputs": [],
   "source": [
    "# labels \n",
    "f6 = csv.writer(open(\"../../ECON_407/Primary Elections/R/pre_post_labels.csv\", \"wb+\"))\n",
    "for cand in pre_post_rows: \n",
    "    f6.writerow([cand])"
   ]
  },
  {
   "cell_type": "code",
   "execution_count": 131,
   "metadata": {
    "collapsed": false
   },
   "outputs": [
    {
     "name": "stdout",
     "output_type": "stream",
     "text": [
      "1.82815073138\n",
      "1.23074687591\n",
      "0.482708514967\n",
      "2.18996415771\n",
      "0.441150828248\n",
      "0.0\n",
      "0.795408311537\n",
      "0.0\n"
     ]
    }
   ],
   "source": [
    "import numpy as np\n",
    "for row in main_pre_post[1:]: \n",
    "    print np.mean(np.asarray(row))"
   ]
  },
  {
   "cell_type": "markdown",
   "metadata": {
    "collapsed": false
   },
   "source": [
    "# Most Loaded Phrases Primary/General\n"
   ]
  },
  {
   "cell_type": "code",
   "execution_count": 179,
   "metadata": {
    "collapsed": false
   },
   "outputs": [],
   "source": [
    "temp = [] \n",
    "import math\n",
    "with open(\"../../ECON_407/Primary Elections/R/loadings.csv\", 'rU') as csvfile:\n",
    "    reader = csv.reader(csvfile, delimiter=',', quotechar='|')\n",
    "    for row in reader: \n",
    "        temp.append(row)\n",
    "loadings = [l + [float(l[2])+float(l[3])] for l in temp[1:]]"
   ]
  },
  {
   "cell_type": "code",
   "execution_count": 180,
   "metadata": {
    "collapsed": false
   },
   "outputs": [
    {
     "name": "stdout",
     "output_type": "stream",
     "text": [
      "16486 14484 5493 21867\n"
     ]
    }
   ],
   "source": [
    "romney_primary_count = np.sum(main_pre_post[1])\n",
    "romney_general_count = np.sum(main_pre_post[2])\n",
    "obama_primary_count = np.sum(main_pre_post[3])\n",
    "obama_general_count = np.sum(main_pre_post[4])\n",
    "print romney_primary_count, romney_general_count, obama_primary_count, obama_general_count"
   ]
  },
  {
   "cell_type": "code",
   "execution_count": 181,
   "metadata": {
    "collapsed": false
   },
   "outputs": [],
   "source": [
    "romney_primary_loadings = zip(main_pre_post[0], main_pre_post[1])\n",
    "for i in range(len((romney_primary_loadings))):\n",
    "    val = (loadings[i][-1]*romney_primary_loadings[i][1])/romney_primary_count\n",
    "    romney_primary_loadings[i]+=(val,)\n",
    "\n",
    "romney_general_loadings = zip(main_pre_post[0], main_pre_post[2])\n",
    "for i in range(len((romney_general_loadings))):\n",
    "    val = (loadings[i][-1]*romney_general_loadings[i][1])/romney_general_count\n",
    "    romney_general_loadings[i]+=(val,)\n",
    "    "
   ]
  },
  {
   "cell_type": "code",
   "execution_count": 182,
   "metadata": {
    "collapsed": false
   },
   "outputs": [
    {
     "name": "stdout",
     "output_type": "stream",
     "text": [
      "[u'mitt.romney', -0.0552]\t\t\t [u'mitt.romney', -0.0701]\n",
      "[u'barack.obama', 0.0114]\t\t\t [u'middl.class', -0.033]\n",
      "[u'middl.class', -0.0073]\t\t\t [u'barack.obama', 0.0128]\n",
      "[u'free.enterpris', 0.0063]\t\t\t [u'wall.street', -0.0108]\n",
      "[u'wall.street', -0.006]\t\t\t [u'currenc.manipul', -0.0083]\n",
      "[u'econom.freedom', 0.006]\t\t\t [u'manipul.currenc', -0.0063]\n",
      "[u'newt.gingrich', -0.0058]\t\t\t [u'busi.owner', 0.0061]\n",
      "[u'super.pac', -0.0056]\t\t\t [u'china.currenc', -0.006]\n",
      "[u'obama.administr', 0.0051]\t\t\t [u'tax.cut', -0.005]\n",
      "[u'illeg.immigr', 0.0049]\t\t\t [u'class.famili', -0.0049]\n",
      "[u'rais.tax', 0.0038]\t\t\t [u'job.creator', 0.0048]\n",
      "[u'nation.debt', 0.0037]\t\t\t [u'fox.news', 0.0046]\n",
      "[u'obama.care', -0.0036]\t\t\t [u'rais.tax', 0.0044]\n",
      "[u'repeal.obamacar', 0.0032]\t\t\t [u'free.enterpris', 0.0044]\n",
      "[u'senat.obama', 0.0029]\t\t\t [u'middl.incom', -0.0042]\n",
      "[u'fox.news', 0.0026]\t\t\t [u'obama.administr', 0.004]\n",
      "[u'cap.trade', 0.0026]\t\t\t [u'repeal.obamacar', 0.0037]\n",
      "[u'labor.statist', -0.0026]\t\t\t [u'th.district', 0.0036]\n",
      "[u'bureau.labor', -0.0026]\t\t\t [u'class.american', -0.0029]\n",
      "[u'pro.life', 0.0026]\t\t\t [u'super.pac', -0.0029]\n",
      "[u'job.creator', 0.0025]\t\t\t [u'tax.rate', 0.0029]\n",
      "[u'feder.spend', 0.0023]\t\t\t [u'million.job', -0.0027]\n",
      "[u'middl.incom', -0.0023]\t\t\t [u'street.journal', 0.0027]\n",
      "[u'legal.immigr', 0.0023]\t\t\t [u'senat.barack', 0.0027]\n",
      "[u'obama.offic', 0.0023]\t\t\t [u'obama.offic', 0.0027]\n",
      "[u'enterpris.system', 0.0023]\t\t\t [u'billion.medicar', 0.0025]\n",
      "[u'pro.growth', 0.0022]\t\t\t [u'census.bureau', -0.0025]\n",
      "[u'class.famili', -0.0022]\t\t\t [u'los.angel', -0.0025]\n",
      "[u'free.market', 0.002]\t\t\t [u'foreign.polici', 0.0025]\n",
      "[u'south.carolina', 0.002]\t\t\t [u'econom.recoveri', -0.0025]\n",
      "[u'chang.washington', 0.002]\t\t\t [u'incom.famili', -0.0025]\n",
      "[u'presid.unit', 0.002]\t\t\t [u'net.worth', -0.0023]\n",
      "[u'presid.fail', 0.0019]\t\t\t [u'largest.tax', 0.0022]\n",
      "[u'price.doubl', 0.0019]\t\t\t [u'presid.unit', 0.0022]\n",
      "[u'energi.resourc', 0.0018]\t\t\t [u'washington.post', 0.0021]\n",
      "[u'near.million', -0.0018]\t\t\t [u'chang.washington', 0.0021]\n",
      "[u'cut.tax', -0.0018]\t\t\t [u'obamacar.cut', 0.0021]\n",
      "[u'davi.bacon', -0.0018]\t\t\t [u'tax.hike', 0.002]\n",
      "[u're.elect', 0.0018]\t\t\t [u'presid.believ', 0.002]\n",
      "[u'illeg.alien', 0.0017]\t\t\t [u'nation.debt', 0.002]\n",
      "[u'america.presid', 0.0017]\t\t\t [u'econom.freedom', 0.002]\n",
      "[u'tax.cut', -0.0017]\t\t\t [u'trade.practic', -0.002]\n",
      "[u'elect.presid', 0.0017]\t\t\t [u'pro.growth', 0.002]\n",
      "[u'lost.job', -0.0016]\t\t\t [u'month.unemploy', 0.0019]\n",
      "[u'burdensom.regul', 0.0016]\t\t\t [u'press.confer', 0.0019]\n",
      "[u'energi.secur', 0.0015]\t\t\t [u'million.peopl', -0.0019]\n",
      "[u'presid.liber', 0.0015]\t\t\t [u'comprehens.immigr', -0.0018]\n",
      "[u'energi.price', 0.0015]\t\t\t [u'creat.million', -0.0018]\n",
      "[u'los.angel', -0.0015]\t\t\t [u'middl.east', 0.0018]\n",
      "[u'presid.offic', 0.0015]\t\t\t [u'presid.polici', 0.0018]\n"
     ]
    }
   ],
   "source": [
    "n = 50\n",
    "p =  [[l[0], round(l[-1],4)] for l in sorted(romney_primary_loadings, key=lambda x: abs(x[-1]), reverse=True)[:n]]\n",
    "g = [[l[0], round(l[-1],4)] for l in sorted(romney_general_loadings, key=lambda x: abs(x[-1]), reverse=True)[:n]]\n",
    "for i in range(len(p)): \n",
    "    print str(p[i]) + \"\\t\\t\\t \" + str(g[i])\n"
   ]
  },
  {
   "cell_type": "code",
   "execution_count": 127,
   "metadata": {
    "collapsed": true
   },
   "outputs": [],
   "source": [
    "obama_primary_loadings = zip(main_pre_post[0], main_pre_post[3])\n",
    "for i in range(len((obama_primary_loadings))):\n",
    "    val = (loadings[i][-1]*obama_primary_loadings[i][1])/obama_primary_count\n",
    "    obama_primary_loadings[i]+=(val,)\n",
    "\n",
    "obama_general_loadings = zip(main_pre_post[0], main_pre_post[4])\n",
    "for i in range(len((obama_general_loadings))):\n",
    "    val = (loadings[i][-1]*obama_general_loadings[i][1])/obama_general_count\n",
    "    obama_general_loadings[i]+=(val,)"
   ]
  },
  {
   "cell_type": "code",
   "execution_count": 183,
   "metadata": {
    "collapsed": false
   },
   "outputs": [
    {
     "name": "stdout",
     "output_type": "stream",
     "text": [
      "[u'middl.class', -0.0298]\t\t\t [u'middl.class', -0.0472]\n",
      "[u'thrive.middl', -0.0262]\t\t\t [u'tax.cut', -0.0297]\n",
      "[u'tax.cut', -0.0158]\t\t\t [u'class.famili', -0.0193]\n",
      "[u'wall.street', -0.0102]\t\t\t [u'thrive.middl', -0.0148]\n",
      "[u'wealthiest.american', -0.01]\t\t\t [u'tax.break', -0.0131]\n",
      "[u'clean.energi', -0.0096]\t\t\t [u'ladder.opportun', -0.0096]\n",
      "[u'student.loan', -0.0072]\t\t\t [u'war.iraq', -0.0077]\n",
      "[u'send.resum', -0.0065]\t\t\t [u'presid.don', 0.0077]\n",
      "[u'insur.compani', -0.0065]\t\t\t [u'wall.street', -0.0073]\n",
      "[u'war.iraq', -0.0059]\t\t\t [u'ship.job', -0.0071]\n",
      "[u'prevent.care', -0.0058]\t\t\t [u'communiti.colleg', -0.0063]\n",
      "[u'million.job', -0.0055]\t\t\t [u'insur.compani', -0.006]\n",
      "[u'ladder.opportun', -0.0055]\t\t\t [u'wealthiest.american', -0.0056]\n",
      "[u'class.famili', -0.0054]\t\t\t [u'cut.tax', -0.0053]\n",
      "[u'marin.base', -0.0053]\t\t\t [u'medicar.voucher', -0.0052]\n",
      "[u'deni.coverag', -0.0052]\t\t\t [u'troop.home', -0.0052]\n",
      "[u'millionair.tax', -0.0051]\t\t\t [u'invest.educ', -0.0048]\n",
      "[u'street.reform', -0.0049]\t\t\t [u'rebuild.road', -0.0048]\n",
      "[u'cut.wealthiest', -0.0047]\t\t\t [u'bring.troop', -0.0045]\n",
      "[u'race.bottom', -0.0045]\t\t\t [u'presid.unit', 0.0043]\n",
      "[u'don.tell', -0.0045]\t\t\t [u'clean.energi', -0.0041]\n",
      "[u'medicar.voucher', -0.0044]\t\t\t [u'unit.america', 0.004]\n",
      "[u'american.energi', 0.0043]\t\t\t [u'build.home', -0.004]\n",
      "[u'troop.home', -0.0042]\t\t\t [u'decad.war', -0.004]\n",
      "[u'parent.plan', -0.0042]\t\t\t [u'war.afghanistan', -0.0039]\n",
      "[u'ship.job', -0.0041]\t\t\t [u'pell.grant', -0.0039]\n",
      "[u'pell.grant', -0.004]\t\t\t [u'million.job', -0.0039]\n",
      "[u'auto.industri', -0.004]\t\t\t [u'reduc.deficit', -0.0038]\n",
      "[u'prescript.drug', -0.0039]\t\t\t [u'million.student', -0.0038]\n",
      "[u'million.peopl', -0.0039]\t\t\t [u'prevent.care', -0.0036]\n",
      "[u'road.bridg', -0.0038]\t\t\t [u'student.loan', -0.0036]\n",
      "[u'war.afghanistan', -0.0036]\t\t\t [u'compani.ship', -0.0035]\n",
      "[u'send.kid', -0.0036]\t\t\t [u'own.energi', 0.0035]\n",
      "[u'invest.educ', -0.0036]\t\t\t [u'head.start', -0.0034]\n",
      "[u'bring.troop', -0.0036]\t\t\t [u'preexist.condit', -0.0034]\n",
      "[u'stay.parent', -0.0035]\t\t\t [u'tax.credit', -0.0033]\n",
      "[u'communiti.colleg', -0.0035]\t\t\t [u'tax.middl', -0.0033]\n",
      "[u'build.home', -0.0034]\t\t\t [u'folk.top', 0.0032]\n",
      "[u'decad.war', -0.0034]\t\t\t [u'road.bridg', -0.0032]\n",
      "[u'enterpris.system', 0.0034]\t\t\t [u'mitt.romney', -0.0032]\n",
      "[u'nation.build', -0.0033]\t\t\t [u'nation.build', -0.0032]\n",
      "[u'play.rule', -0.0031]\t\t\t [u'wind.turbin', -0.0031]\n",
      "[u'colleg.afford', -0.0031]\t\t\t [u'pay.colleg', -0.0031]\n",
      "[u'job.month', -0.0031]\t\t\t [u'construct.worker', -0.003]\n",
      "[u'unit.america', 0.0031]\t\t\t [u'prescript.drug', -0.0029]\n",
      "[u'tax.break', -0.003]\t\t\t [u'bless.unit', 0.0029]\n",
      "[u'god.bless', 0.003]\t\t\t [u'job.oversea', -0.0029]\n",
      "[u'econom.crisi', -0.0029]\t\t\t [u'god.bless', 0.0029]\n",
      "[u'lot.folk', 0.0029]\t\t\t [u'auto.industri', -0.0029]\n",
      "[u're.fight', 0.0028]\t\t\t [u'world.ve', 0.0029]\n"
     ]
    }
   ],
   "source": [
    "p =  [[l[0], round(l[-1],4)] for l in sorted(obama_primary_loadings, key=lambda x: abs(x[-1]), reverse=True)[:n]]\n",
    "g = [[l[0], round(l[-1],4)] for l in sorted(obama_general_loadings, key=lambda x: abs(x[-1]), reverse=True)[:n]]\n",
    "for i in range(len(p)): \n",
    "    print str(p[i]) + \"\\t\\t\\t \" + str(g[i])\n"
   ]
  },
  {
   "cell_type": "code",
   "execution_count": 158,
   "metadata": {
    "collapsed": false
   },
   "outputs": [
    {
     "data": {
      "text/plain": [
       "[(u'mitt.romney', 501, -0.05523396006519248),\n",
       " (u'middl.class', 57, -0.007340052637578646),\n",
       " (u'wall.street', 57, -0.0060275960007918905),\n",
       " (u'newt.gingrich', 77, -0.005810658900754774),\n",
       " (u'super.pac', 13, -0.005578517114381953),\n",
       " (u'obama.care', 10, -0.0035762803424169475),\n",
       " (u'labor.statist', 67, -0.002600781701373594),\n",
       " (u'bureau.labor', 68, -0.0025614507377724146),\n",
       " (u'middl.incom', 22, -0.002326927265086112),\n",
       " (u'class.famili', 15, -0.0022319777962149794),\n",
       " (u'near.million', 28, -0.001813190393379646),\n",
       " (u'cut.tax', 28, -0.0018016514891858815),\n",
       " (u'davi.bacon', 13, -0.0017954789479860019),\n",
       " (u'tax.cut', 17, -0.0017209578050685788),\n",
       " (u'lost.job', 26, -0.0016256946760358705),\n",
       " (u'los.angel', 23, -0.001502964807735945),\n",
       " (u'manipul.currenc', 3, -0.0012774671249245451),\n",
       " (u'tea.parti', 14, -0.0012756948533588753),\n",
       " (u'deficit.china', 3, -0.0012701261928530685),\n",
       " (u'home.foreclosur', 6, -0.0012652566417079704),\n",
       " (u'econom.recoveri', 25, -0.0012545728225240582),\n",
       " (u'suppress.vote', 4, -0.0012363018185274582),\n",
       " (u'china.currenc', 3, -0.0012242289959793298),\n",
       " (u'chronic.unemploy', 7, -0.0011335878714365771),\n",
       " (u'america.promis', 23, -0.0011259009729445817),\n",
       " (u'harri.truman', 6, -0.0011248407441271976),\n",
       " (u'health.reform', 9, -0.0011113154213641242),\n",
       " (u'unemploy.worker', 7, -0.0011088032316132234),\n",
       " (u'incom.american', 14, -0.0011040031716282107),\n",
       " (u'cut.deficit', 19, -0.0010948471366294895),\n",
       " (u'million.peopl', 26, -0.0010497192605255817),\n",
       " (u'western.york', 3, -0.0010043724700809847),\n",
       " (u'term.unemploy', 9, -0.001002714101649701),\n",
       " (u'currenc.manipul', 3, -0.000992641919881838),\n",
       " (u'associ.press', 63, -0.0009695467509319865),\n",
       " (u'york.time', 53, -0.0009677072069678113),\n",
       " (u'wasserman.schultz', 21, -0.0008757665922693968),\n",
       " (u'home.valu', 18, -0.0008621033326248369),\n",
       " (u'georg.bush', 26, -0.0008606633527836529),\n",
       " (u'american.economi', 22, -0.0008593140007391822),\n",
       " (u'cut.program', 8, -0.0008444331291047143),\n",
       " (u'half.million', 11, -0.0008313350261958086),\n",
       " (u'medicar.social', 12, -0.0008010989844378794),\n",
       " (u'american.struggl', 18, -0.0007876109575196783),\n",
       " (u'million.job', 18, -0.0007729749935208235),\n",
       " (u'dream.act', 5, -0.0007539834452309171),\n",
       " (u'trade.polici', 7, -0.0007320065735210591),\n",
       " (u'left.offic', 8, -0.0007275625876406793),\n",
       " (u'lost.home', 12, -0.0007155440087583624),\n",
       " (u'unit.nation', 17, -0.0006968108910515132),\n",
       " (u'block.grant', 7, -0.0006892068336257455),\n",
       " (u'financi.system', 9, -0.0006795157711598866),\n",
       " (u'census.bureau', 7, -0.0006782002542546718),\n",
       " (u'road.bridg', 8, -0.0006747566896477835),\n",
       " (u'job.lost', 16, -0.0006645638699634337),\n",
       " (u'western.pennsylvania', 4, -0.0006381183508700349),\n",
       " (u'san.francisco', 6, -0.0006228058804010822),\n",
       " (u'job.plan', 20, -0.000609272470000831),\n",
       " (u'tax.middl', 9, -0.0006039437934817603),\n",
       " (u'help.peopl', 16, -0.0005998030570430349),\n",
       " (u'student.loan', 6, -0.0005973560390767803),\n",
       " (u'econom.crisi', 11, -0.0005952700340661041),\n",
       " (u'famili.plan', 7, -0.0005898255291317598),\n",
       " (u'vision.america', 15, -0.0005822099570113703),\n",
       " (u'troop.home', 4, -0.0005587827934874876),\n",
       " (u'tax.credit', 5, -0.0005541750318064478),\n",
       " (u'econom.advis', 8, -0.0005508991113918136),\n",
       " (u'american.dream', 15, -0.0005486298273558757),\n",
       " (u'real.question', 5, -0.0005433076953877077),\n",
       " (u'america.america', 12, -0.0005356335219356818),\n",
       " (u'bring.troop', 3, -0.0005118354666357412),\n",
       " (u'struggl.pay', 5, -0.0005097337381136268),\n",
       " (u'partisan.polit', 7, -0.000506482613107675),\n",
       " (u'care.act', 7, -0.0005013612953704307),\n",
       " (u'public.broadcast', 3, -0.0005002939190343498),\n",
       " (u'american.lost', 6, -0.0004994867271713004),\n",
       " (u'public.sector', 4, -0.0004941484169757418),\n",
       " (u'cours.america', 14, -0.0004927068704950662),\n",
       " (u'clean.energi', 5, -0.0004867506915054045),\n",
       " (u'afford.care', 8, -0.0004848958287122713),\n",
       " (u'deficit.reduct', 7, -0.00047761674050836956),\n",
       " (u'play.rule', 5, -0.00047397652385375777),\n",
       " (u'presid.bush', 12, -0.00047017667706907387),\n",
       " (u'trade.deficit', 3, -0.00047001113137982596),\n",
       " (u'intellectu.properti', 11, -0.00046440211761729523),\n",
       " (u'presid.barack', 50, -0.0004637139197625568),\n",
       " (u'job.crisi', 6, -0.00046170931666758216),\n",
       " (u'percent.peopl', 17, -0.0004607058035859481),\n",
       " (u'st.centuri', 8, -0.00044847587394430185),\n",
       " (u'american.unemploy', 16, -0.0004376356422569773),\n",
       " (u'graduat.colleg', 7, -0.00043745582775524017),\n",
       " (u'roll.call', 6, -0.0004360092728348793),\n",
       " (u'defici.bridg', 1, -0.00043563219088644183),\n",
       " (u'presidenti.campaign', 14, -0.00043474949647883337),\n",
       " (u'trade.practic', 1, -0.00043388877892674033),\n",
       " (u'unfair.trade', 1, -0.00042861394653062655),\n",
       " (u'support.feder', 10, -0.0004262320557433902),\n",
       " (u'colleg.cost', 2, -0.00042509236908597724),\n",
       " (u'job.month', 7, -0.00042089358163094364),\n",
       " (u'former.governor', 11, -0.00042015889044034956),\n",
       " (u'econom.polici', 20, -0.00041708121235210603),\n",
       " (u'las.vega', 15, -0.0004120640444787319),\n",
       " (u'rate.increas', 12, -0.0004118847480771702),\n",
       " (u'rebuild.road', 3, -0.00040541982975381775),\n",
       " (u'build.america', 6, -0.00040458354994491087),\n",
       " (u'insur.compani', 5, -0.00039951503097929457),\n",
       " (u'hard.time', 12, -0.00039439957387471357),\n",
       " (u'restor.american', 9, -0.0003935722706451626),\n",
       " (u'cut.job', 3, -0.000385016369197641),\n",
       " (u'privat.insur', 7, -0.00037594708788642466),\n",
       " (u'median.incom', 5, -0.00037333373012022925),\n",
       " (u'elimin.tax', 5, -0.00037274814116861575),\n",
       " (u'trade.war', 6, -0.00036867473291411144),\n",
       " (u'cut.domest', 1, -0.00036292136789073273),\n",
       " (u'america.hope', 7, -0.0003624278092677724),\n",
       " (u'job.train', 4, -0.0003600324706015067),\n",
       " (u'war.iraq', 4, -0.00035956835384845086),\n",
       " (u'incom.famili', 3, -0.000359056189383836),\n",
       " (u'hurt.middl', 6, -0.00035363924315736614),\n",
       " (u'health.educ', 2, -0.0003473877330937996),\n",
       " (u'job.ad', 6, -0.0003444385206466123),\n",
       " (u'strengthen.economi', 3, -0.0003429283528725646),\n",
       " (u'tax.reduc', 5, -0.0003384488086802408),\n",
       " (u'invest.america', 6, -0.00033827789401910603),\n",
       " (u'million.unemploy', 5, -0.0003367839306371983),\n",
       " (u'plan.creat', 5, -0.00033639835265947775),\n",
       " (u'peopl.sick', 3, -0.00033555971032403194),\n",
       " (u'unemploy.underemploy', 14, -0.00033547829307162003),\n",
       " (u'care.reform', 9, -0.0003354719483826598),\n",
       " (u'america.middl', 2, -0.0003293926159625743),\n",
       " (u'feder.level', 12, -0.0003270122154451707),\n",
       " (u'minimum.tax', 6, -0.00032028261188280844),\n",
       " (u'communiti.colleg', 3, -0.0003152023843571078),\n",
       " (u'safeti.net', 5, -0.000311349351187177),\n",
       " (u'bowl.simpson', 6, -0.00031050587260942925),\n",
       " (u'creat.million', 6, -0.00030959290759591316),\n",
       " (u'elect.campaign', 6, -0.00030891612839168385),\n",
       " (u'commit.public', 2, -0.0003062649720956751),\n",
       " (u'public.servic', 6, -0.0003032282555147491),\n",
       " (u'pay.mortgag', 6, -0.00030280568546026007),\n",
       " (u'rhode.island', 2, -0.0003025257299035266),\n",
       " (u'school.system', 3, -0.00030083859250021235),\n",
       " (u'job.loss', 10, -0.0002992799369845136),\n",
       " (u'infrastructur.invest', 2, -0.00029904672597128355),\n",
       " (u'john.mccain', 5, -0.00029382778893508645),\n",
       " (u'highway.system', 3, -0.00029352310996586255),\n",
       " (u'pension.fund', 3, -0.0002934787382673723),\n",
       " (u'privat.public', 3, -0.0002917328494870714),\n",
       " (u'peopl.job', 19, -0.00028979172720249),\n",
       " (u'servic.sector', 5, -0.0002876596198922798),\n",
       " (u'humanitarian.aid', 2, -0.0002875907378369113),\n",
       " (u'economi.recess', 2, -0.00028444234575186826),\n",
       " (u'class.tax', 2, -0.0002839825893460148),\n",
       " (u'money.polit', 2, -0.00028322533856207205),\n",
       " (u'structur.defici', 1, -0.0002831166363705865),\n",
       " (u'gun.owner', 3, -0.0002820216507724559),\n",
       " (u'feder.employe', 8, -0.0002813716325297833),\n",
       " (u'peopl.happi', 3, -0.0002798247977117761),\n",
       " (u'budget.cut', 5, -0.000277139245866951),\n",
       " (u'forc.senior', 3, -0.000276653178996016),\n",
       " (u'american.recoveri', 5, -0.0002748647229126347),\n",
       " (u'climat.chang', 3, -0.0002747184297968331),\n",
       " (u'econom.downturn', 5, -0.00027356720812054137),\n",
       " (u'economi.peopl', 7, -0.0002735405629959498),\n",
       " (u'partisan.bicker', 1, -0.00027178953110476215),\n",
       " (u'world.class', 2, -0.0002706480404467973),\n",
       " (u'insur.plan', 7, -0.00026836840946190026),\n",
       " (u'opportun.nation', 5, -0.0002669945398784147),\n",
       " (u'near.imposs', 2, -0.00026579250390122044),\n",
       " (u'cut.propos', 3, -0.0002655413112269647),\n",
       " (u'preexist.condit', 3, -0.00026499160393553863),\n",
       " (u'accord.nonpartisan', 4, -0.00026424001820282906),\n",
       " (u'guarante.benefit', 1, -0.00026403040373289277),\n",
       " (u'abl.job', 5, -0.0002640300258222058),\n",
       " (u'job.instead', 3, -0.0002627495029371364),\n",
       " (u'nation.deficit', 5, -0.0002622791369325895),\n",
       " (u'budget.propos', 5, -0.000262257599211548),\n",
       " (u'fault.own', 2, -0.0002612981111489203),\n",
       " (u'african.american', 2, -0.0002600781810455247),\n",
       " (u'public.educ', 4, -0.0002593166663692369),\n",
       " (u'peopl.educ', 2, -0.00025917279417483923),\n",
       " (u'iraq.afghanistan', 6, -0.00025859665870804296),\n",
       " (u'insur.premium', 16, -0.0002578638013978522),\n",
       " (u'help.middl', 2, -0.0002568876079917579),\n",
       " (u'fall.short', 9, -0.00025667385131342314),\n",
       " (u'am.pleas', 8, -0.00025377255546050125),\n",
       " (u'altern.minimum', 6, -0.00025285328289725693),\n",
       " (u'job.act', 4, -0.0002526351345496227),\n",
       " (u'join.union', 7, -0.00025135435253689125),\n",
       " (u'job.opportun', 7, -0.0002511667821636265),\n",
       " (u'vast.major', 6, -0.00025110179289429454),\n",
       " (u'heart.soul', 3, -0.0002501790151858905),\n",
       " (u'american.polit', 3, -0.0002488776616120333),\n",
       " (u'million.colleg', 1, -0.00024826012542898397),\n",
       " (u'nuclear.weapon', 13, -0.0002477110365151766),\n",
       " (u'report.releas', 5, -0.0002462983651334202),\n",
       " (u'extend.unemploy', 2, -0.00024324247905123256),\n",
       " (u'presid.clinton', 5, -0.0002419055952677666),\n",
       " (u'fought.hard', 4, -0.00024189351941901515),\n",
       " (u'hundr.thousand', 9, -0.00024161465724682635),\n",
       " (u'sick.tire', 5, -0.00024134139737476767),\n",
       " (u'fund.billion', 4, -0.0002405598390254883),\n",
       " (u'million.veteran', 3, -0.0002372337679240398),\n",
       " (u'intern.communiti', 5, -0.0002355032110540422),\n",
       " (u'elect.offici', 11, -0.0002342648100451131),\n",
       " (u'household.incom', 5, -0.00023423445456082767),\n",
       " (u'wrong.time', 5, -0.00023422962242370104),\n",
       " (u'nuclear.program', 5, -0.00023363010458826854),\n",
       " (u'auto.industri', 7, -0.00023313051736320497),\n",
       " (u'job.time', 17, -0.00023287742652075167),\n",
       " (u'lowest.level', 12, -0.00023068701433348054),\n",
       " (u'financi.crisi', 6, -0.00022965506716354604),\n",
       " (u'peopl.faith', 5, -0.00022897560291479407),\n",
       " (u'america.economi', 10, -0.00022817222285832466),\n",
       " (u'budget.million', 2, -0.0002274856517298423),\n",
       " (u'lose.job', 10, -0.00022672110464072912),\n",
       " (u'public.school', 8, -0.00022610664937536043),\n",
       " (u'pleas.continu', 1, -0.0002256643245595032),\n",
       " (u'class.american', 2, -0.00022486524982016256),\n",
       " (u'tax.break', 2, -0.00022477207230952567),\n",
       " (u'minimum.wage', 4, -0.00022467170677876525),\n",
       " (u'million.women', 2, -0.00022336676950390877),\n",
       " (u'san.diego', 3, -0.00022294814603690096),\n",
       " (u'american.worker', 8, -0.00022217031140583528),\n",
       " (u'tri.deal', 3, -0.0002196953488086977),\n",
       " (u'polici.issu', 5, -0.00021928075235627746),\n",
       " (u'presidenti.elect', 5, -0.00021881498813938188),\n",
       " (u'birth.control', 2, -0.00021700348190257067),\n",
       " (u'fellow.american', 5, -0.00021551642619351664),\n",
       " (u'jewish.peopl', 2, -0.00021517968450260455),\n",
       " (u'american.women', 3, -0.00021401108137978402),\n",
       " (u'oppos.legisl', 2, -0.00021172679583077278),\n",
       " (u'program.critic', 4, -0.00021031617290029114),\n",
       " (u'bush.tax', 3, -0.0002092048885705083),\n",
       " (u'sexual.orient', 3, -0.00020850681210610883),\n",
       " (u'support.program', 4, -0.000208464027106766),\n",
       " (u'add.job', 5, -0.0002077497665348705),\n",
       " (u'secur.forc', 4, -0.00020739906714351084),\n",
       " (u'help.american', 6, -0.0002066829371093056),\n",
       " (u'street.reform', 1, -0.00020516090622471915),\n",
       " (u'struggl.job', 2, -0.00020473919670997077),\n",
       " (u'help.build', 4, -0.00020432211766416547),\n",
       " (u'kid.colleg', 4, -0.00020422546978034138),\n",
       " (u'ad.job', 12, -0.00020409255850925562),\n",
       " (u'budget.peopl', 3, -0.0002038916844501007),\n",
       " (u'job.unemploy', 5, -0.00020178799702854662),\n",
       " (u'send.kid', 2, -0.00020129366176006793),\n",
       " (u'nation.earth', 9, -0.00020113915424780995),\n",
       " (u'don.tell', 4, -0.00020061276677945286),\n",
       " (u'believ.respons', 2, -0.00019986482614344292),\n",
       " (u'invest.innov', 3, -0.0001996478213324845),\n",
       " (u'war.women', 3, -0.00019957079022246937),\n",
       " (u'lead.world', 14, -0.00019955977029803568),\n",
       " (u'save.billion', 12, -0.00019881825990467595),\n",
       " (u'oil.industri', 2, -0.00019810053699504548),\n",
       " (u'rush.limbaugh', 2, -0.00019778008819517408),\n",
       " (u'invest.job', 3, -0.0001974235211743346),\n",
       " (u'instead.focus', 2, -0.00019582444134138782),\n",
       " (u'rich.peopl', 2, -0.000195399451424428),\n",
       " (u'public.servant', 8, -0.00019534604012611282),\n",
       " (u'struggl.american', 2, -0.0001949783770763011),\n",
       " (u'bad.day', 2, -0.00019456090905430547),\n",
       " (u'congressman.john', 2, -0.0001945025155906175),\n",
       " (u'luther.king', 3, -0.00019434855633791948),\n",
       " (u'martin.luther', 3, -0.00019434855633791948),\n",
       " (u'groundhog.day', 1, -0.00019326124659152554),\n",
       " (u'colleg.graduat', 11, -0.00019245650278252335),\n",
       " (u'recoveri.act', 2, -0.00019189803009689917),\n",
       " (u'cut.cut', 6, -0.00019000778072105932),\n",
       " (u'unemploy.peopl', 3, -0.00018929930570778903),\n",
       " (u'millionair.tax', 1, -0.0001888190539024105),\n",
       " (u'reduct.plan', 3, -0.00018843813746306684),\n",
       " (u'peopl.afford', 4, -0.00018442063785561593),\n",
       " (u'worker.right', 1, -0.00018429125544859275),\n",
       " (u'buy.home', 4, -0.0001836561170138515),\n",
       " (u'rebuild.america', 3, -0.00018299301383765262),\n",
       " (u'plan.help', 4, -0.00018241293793603105),\n",
       " (u'american.manufactur', 2, -0.0001820700900400194),\n",
       " (u'share.stori', 2, -0.00018199488694211575),\n",
       " (u'time.near', 3, -0.00018138994976738289),\n",
       " (u'public.invest', 1, -0.00018121912279306504),\n",
       " (u'unemploy.veteran', 2, -0.00018091488055081646),\n",
       " (u'grow.economi', 14, -0.00018024231378971809),\n",
       " (u'peopl.hard', 4, -0.00017991807243341112),\n",
       " (u'program.serv', 2, -0.00017937125430953537),\n",
       " (u'fund.invest', 2, -0.00017749014164147642),\n",
       " (u'annual.incom', 2, -0.00017735240448253065),\n",
       " (u'hard.fought', 3, -0.0001771093832185032),\n",
       " (u'cost.war', 2, -0.00017667392995056655),\n",
       " (u'hope.hope', 4, -0.00017572603949873202),\n",
       " (u'king.jr', 5, -0.00017561518454076763),\n",
       " (u're.absolut', 3, -0.0001750844464409506),\n",
       " (u'american.lose', 4, -0.0001748711832032401),\n",
       " (u'food.stamp', 8, -0.000174851457247259),\n",
       " (u'difficult.choic', 4, -0.00017484229329275941),\n",
       " (u'result.loss', 3, -0.00017411415601143536),\n",
       " (u'america.help', 3, -0.00017328766975625506),\n",
       " (u'huge.deficit', 3, -0.0001729615925305966),\n",
       " (u'job.public', 2, -0.00017151929285278905),\n",
       " (u'colleg.tuition', 2, -0.00017083687763668203),\n",
       " (u'ten.million', 2, -0.00017031055070434672),\n",
       " (u'peopl.paid', 5, -0.0001700901361596482),\n",
       " (u'oppos.effort', 2, -0.00016896478387460633),\n",
       " (u'job.reduc', 3, -0.0001681618243874627),\n",
       " (u'govern.invest', 2, -0.00016790899314930607),\n",
       " (u'payrol.tax', 4, -0.0001667721059266949),\n",
       " (u'absolut.essenti', 2, -0.00016662326650685792),\n",
       " (u'million.percent', 3, -0.0001663222372452445),\n",
       " (u'america.thank', 8, -0.00016604059697429723),\n",
       " (u'cut.rate', 2, -0.00016504642167592017),\n",
       " (u'clinton.presid', 4, -0.00016503893757387504),\n",
       " (u'peopl.help', 8, -0.0001642474604140381),\n",
       " (u'visa.program', 1, -0.0001635231153789379),\n",
       " (u'american.time', 3, -0.00016315956216668204),\n",
       " (u'critic.issu', 3, -0.00016233085230880204),\n",
       " (u'reform.law', 2, -0.00016227773338938856),\n",
       " (u'million.student', 1, -0.00016176847067654373),\n",
       " (u'million.dollar', 13, -0.00016175250995472594),\n",
       " (u'insur.peopl', 3, -0.00016142109444122906),\n",
       " (u'fiscal.challeng', 3, -0.00015987822006177367),\n",
       " (u'job.econom', 4, -0.000159616544270115),\n",
       " (u'afl.cio', 3, -0.00015958122164780195),\n",
       " (u'add.trillion', 4, -0.00015954811661342594),\n",
       " (u'program.cut', 2, -0.00015900157751277933),\n",
       " (u'lower.deficit', 1, -0.0001588014772745912),\n",
       " (u'insur.afford', 2, -0.00015794934028271745),\n",
       " (u'million.middl', 2, -0.0001572089286915807),\n",
       " (u'front.center', 1, -0.00015710721547284847),\n",
       " (u'rate.student', 1, -0.00015684744296514799),\n",
       " (u'world.look', 6, -0.00015667795367277942),\n",
       " (u'real.issu', 4, -0.00015627506792985612),\n",
       " (u're.wrong', 3, -0.00015548840332258557),\n",
       " (u'refus.compromis', 2, -0.00015542608032655586),\n",
       " (u'reduc.tax', 7, -0.00015540651865584437),\n",
       " (u'mortgag.payment', 2, -0.00015533612178373772),\n",
       " (u'percent.american', 5, -0.00015516118319209877),\n",
       " (u'strong.opposit', 1, -0.0001548950581689852),\n",
       " (u'govern.polici', 5, -0.00015471588598220157),\n",
       " (u'earn.million', 1, -0.00015468853409919813),\n",
       " (u'transport.infrastructur', 2, -0.00015463232925528691),\n",
       " (u'time.vote', 4, -0.00015457944840083053),\n",
       " (u'benefit.senior', 2, -0.0001540888090439197),\n",
       " (u'american.pay', 5, -0.0001535032084952626),\n",
       " (u'rate.unemploy', 2, -0.0001529399546343916),\n",
       " (u'thank.thank', 9, -0.0001522874732605478),\n",
       " (u'growth.creat', 4, -0.00015223969834835644),\n",
       " (u'result.million', 4, -0.00015124571690107338),\n",
       " (u'deficit.deficit', 6, -0.00015112295107000013),\n",
       " (u'weapon.program', 2, -0.0001505587671284666),\n",
       " (u'care.afford', 8, -0.00015050666996756034),\n",
       " (u'senior.pay', 1, -0.0001499334009948799),\n",
       " (u'campaign.financ', 1, -0.0001497627761412659),\n",
       " (u'plain.simpl', 2, -0.00014960057577725948),\n",
       " (u'didn.creat', 2, -0.0001493334920480917),\n",
       " (u'receiv.billion', 1, -0.0001489699676325197),\n",
       " (u'job.cut', 3, -0.00014882861120548072),\n",
       " (u'top.percent', 3, -0.00014845350139432127),\n",
       " (u'drop.percent', 7, -0.00014835742203271623),\n",
       " (u'help.america', 5, -0.0001482338014267445),\n",
       " (u'spend.plan', 4, -0.0001481919932243967),\n",
       " (u'focus.attent', 3, -0.00014772798623872),\n",
       " (u're.think', 2, -0.00014761696562574786),\n",
       " (u'american.middl', 1, -0.0001470886781233677),\n",
       " (u'manufactur.sector', 2, -0.00014666930471567632),\n",
       " (u'find.job', 2, -0.00014655043679028025),\n",
       " (u'add.deficit', 2, -0.000146374807655646),\n",
       " (u'st.loui', 2, -0.00014635519688494238),\n",
       " (u'peopl.feel', 4, -0.0001460114290830171),\n",
       " (u'unemploy.insur', 1, -0.00014588669062125562),\n",
       " (u'near.percent', 7, -0.0001451634199778839),\n",
       " (u'program.provid', 2, -0.00014453927420585467),\n",
       " (u'financi.institut', 3, -0.00014444317672565856),\n",
       " (u'senior.receiv', 2, -0.00014433086670065146),\n",
       " (u'credit.rate', 9, -0.00014410295857294044),\n",
       " (u'vote.vote', 8, -0.00014353089945648816),\n",
       " (u'bush.administr', 3, -0.00014304023853428747),\n",
       " (u'job.invest', 2, -0.00014112398884675117),\n",
       " (u'peopl.includ', 2, -0.000140911055156568),\n",
       " (u'help.pay', 6, -0.00014089807415017822),\n",
       " (u'polici.allow', 3, -0.0001403885636792879),\n",
       " (u'compani.call', 7, -0.0001401639530824803),\n",
       " (u'district.columbia', 3, -0.0001400801814833844),\n",
       " (u'support.senat', 5, -0.00013999190243032606),\n",
       " (u'term.deficit', 2, -0.00013916838249811235),\n",
       " (u'peopl.real', 5, -0.0001377351155891632),\n",
       " (u'hasn.happen', 7, -0.00013706779229015993),\n",
       " (u'coverag.million', 1, -0.0001368732750928788),\n",
       " (u'mother.father', 3, -0.00013639173240753713),\n",
       " (u've.lost', 7, -0.00013581008191655678),\n",
       " (u'debt.reduct', 2, -0.00013576935237014556),\n",
       " (u'care.peopl', 9, -0.0001355955514317514),\n",
       " (u'lose.home', 1, -0.000135481112280885),\n",
       " (u'victim.famili', 3, -0.00013482568913334271),\n",
       " (u'america.nation', 10, -0.00013470571201040337),\n",
       " (u'peopl.throughout', 2, -0.0001343010508485988),\n",
       " (u'ryan.plan', 2, -0.00013373578243613973),\n",
       " (u'civil.right', 2, -0.00013358615056454447),\n",
       " (u'nation.million', 1, -0.00013344622201330887),\n",
       " (u'presid.propos', 5, -0.00013295405445124347),\n",
       " (u'fail.address', 3, -0.0001324490676771551),\n",
       " (u'ronald.reagan', 17, -0.00013216971258868065),\n",
       " (u'time.american', 6, -0.000132045064990173),\n",
       " (u'propos.medicar', 1, -0.00013182432300408044),\n",
       " (u'street.bank', 2, -0.00013175962011856848),\n",
       " (u'improv.economi', 5, -0.0001313049342537929),\n",
       " (u'bank.system', 2, -0.00013123565244046586),\n",
       " (u'nation.school', 2, -0.00013084296780360428),\n",
       " (u'competit.global', 2, -0.00013080378832862428),\n",
       " (u'slow.growth', 7, -0.0001307986686434633),\n",
       " (u'collect.bargain', 1, -0.00013052182863193619),\n",
       " (u'support.famili', 2, -0.000130300434952288),\n",
       " (u'renew.energi', 3, -0.00013014463960647199),\n",
       " (u'loan.program', 2, -0.00012992144631798617),\n",
       " (u'fund.program', 3, -0.00012983680828460912),\n",
       " (u'militari.presenc', 1, -0.00012980246995263677),\n",
       " (u'america.american', 3, -0.00012953096432098506),\n",
       " (u'colleg.afford', 1, -0.00012923613905888026),\n",
       " (u'lost.million', 3, -0.00012900885668963807),\n",
       " (u'pursu.polici', 5, -0.00012832473616177274),\n",
       " (u'day.month', 2, -0.00012740748961025475),\n",
       " (u'home.heat', 1, -0.00012731431396124896),\n",
       " (u'america.grow', 8, -0.00012676965741621496),\n",
       " (u'reflect.valu', 1, -0.00012669100435623197),\n",
       " (u'countri.unemploy', 2, -0.00012647997516243966),\n",
       " (u'fiscal.polici', 2, -0.00012631315426730072),\n",
       " (u'privat.school', 2, -0.00012554444274698412),\n",
       " (u'divid.govern', 2, -0.00012507146909172996),\n",
       " (u'effici.effect', 4, -0.00012396528954890088),\n",
       " (u'nine.percent', 1, -0.00012320272452058355),\n",
       " (u'role.play', 1, -0.00012295856519687736),\n",
       " (u'approv.rate', 3, -0.00012284763906557402),\n",
       " (u'senior.social', 2, -0.00012284220306228437),\n",
       " (u'grant.program', 2, -0.0001228338092640568),\n",
       " (u'children.deni', 1, -0.00012224572067846414),\n",
       " (u'declar.independ', 9, -0.00012202089403459618),\n",
       " (u'colleg.student', 3, -0.00012169994040728437),\n",
       " (u'play.game', 3, -0.00012159871901248219),\n",
       " (u'bring.home', 2, -0.00012159741685137328),\n",
       " (u'time.reflect', 1, -0.00012158325060247603),\n",
       " (u'fals.claim', 4, -0.0001214868880253522),\n",
       " (u'job.help', 8, -0.00012132550962878322),\n",
       " (u'union.worker', 3, -0.00012086542065807448),\n",
       " (u'miss.opportun', 3, -0.00012073216348640956),\n",
       " (u'govern.issu', 3, -0.00012055388630849362),\n",
       " (u'tax.incent', 2, -0.00012048152838385188),\n",
       " (u'cast.ballot', 1, -0.00012037771640930305),\n",
       " (u'receiv.million', 4, -0.00012006621206728036),\n",
       " (u'insid.trade', 2, -0.00012005388250572825),\n",
       " (u'vote.measur', 1, -0.00012002250209788972),\n",
       " (u'program.feder', 6, -0.00011986812237390806),\n",
       " (u'near.half', 7, -0.00011963291740008814),\n",
       " (u'support.public', 1, -0.00011955655349392211),\n",
       " (u'cold.war', 5, -0.00011893118964579369),\n",
       " (u'budget.deficit', 11, -0.0001187865147866548),\n",
       " (u'senior.depend', 1, -0.00011858023012036576),\n",
       " (u'domest.program', 1, -0.00011850103277952323),\n",
       " (u'job.save', 5, -0.00011823703591088286),\n",
       " (u'own.peopl', 5, -0.00011742657789396247),\n",
       " (u'cut.critic', 1, -0.00011733272294106817),\n",
       " (u'invest.american', 2, -0.00011729768494897635),\n",
       " (u'local.govern', 5, -0.00011727643073041095),\n",
       " (u'faith.govern', 2, -0.00011712499259962089),\n",
       " (u'benefit.help', 1, -0.00011706826756912048),\n",
       " (u'medicar.privat', 2, -0.00011655035450208929),\n",
       " (u'tax.reduct', 1, -0.00011639832019518682),\n",
       " (u'focus.creat', 2, -0.00011619944437317518),\n",
       " (u'chamber.commerc', 7, -0.00011614872325967796),\n",
       " (u'percent.percent', 21, -0.00011597926094122353),\n",
       " (u'billion.feder', 3, -0.00011531727586535794),\n",
       " (u'bring.deficit', 1, -0.00011445628738011404),\n",
       " (u'peopl.close', 2, -0.00011430055664101686),\n",
       " (u'confid.economi', 3, -0.0001142583091758563),\n",
       " (u'educ.public', 1, -0.00011414061122863581),\n",
       " (u'north.korea', 5, -0.00011413070428121141),\n",
       " (u'basic.human', 4, -0.00011412330511668446),\n",
       " (u'economi.help', 4, -0.00011409817668291738),\n",
       " (u'job.home', 5, -0.00011386037593310294),\n",
       " (u'build.home', 1, -0.00011384501353973492),\n",
       " (u'law.protect', 2, -0.000113775334213045),\n",
       " (u'famili.struggl', 3, -0.00011359202012066499),\n",
       " (u'help.famili', 2, -0.00011335187070165146),\n",
       " (u'famili.pay', 3, -0.00011278534237514848),\n",
       " (u'achiev.american', 2, -0.00011252798776460523),\n",
       " (u'educ.children', 2, -0.00011204969021678612),\n",
       " (u'job.program', 1, -0.00011188975994232258),\n",
       " (u'social.safeti', 1, -0.00011173164921701807),\n",
       " (u'commemor.coin', 1, -0.00011164968756505033),\n",
       " (u'construct.industri', 3, -0.00011158014831491855),\n",
       " (u'defens.budget', 5, -0.00011154706838930487),\n",
       " (u'war.afghanistan', 1, -0.00011045671071087713),\n",
       " (u'recent.month', 1, -0.0001102616569809026),\n",
       " (u'add.million', 2, -0.00011009512153562696),\n",
       " (u'million.lost', 1, -0.00011004033928907193),\n",
       " (u'rais.billion', 3, -0.00010989722776882941),\n",
       " (u'liberti.justic', 1, -0.00010987282681661167),\n",
       " (u'central.bank', 6, -0.00010980949237377892),\n",
       " (u'breast.cancer', 2, -0.00010956526676489944),\n",
       " (u'low.incom', 1, -0.00010953876786258948),\n",
       " (u'obama.sign', 7, -0.00010952627414058365),\n",
       " (u'american.public', 5, -0.00010884659868253548),\n",
       " (u'challeng.face', 6, -0.00010883740712244558),\n",
       " (u'dream.dream', 2, -0.00010856959557467451),\n",
       " (u'deficit.billion', 5, -0.00010804309305390179),\n",
       " (u'women.women', 1, -0.00010803252648016559),\n",
       " (u'infrastructur.committe', 2, -0.00010738123410439512),\n",
       " (u'america.compet', 2, -0.00010733138654319568),\n",
       " (u'immedi.action', 5, -0.00010701766809823882),\n",
       " (u'american.home', 2, -0.000107016190447453),\n",
       " (u'american.afford', 2, -0.00010668977966780056),\n",
       " (u'opposit.legisl', 1, -0.00010581729080580978),\n",
       " (u'allow.vote', 1, -0.00010564424455100082),\n",
       " (u'nation.nation', 4, -0.00010534931839779837),\n",
       " (u'incom.individu', 1, -0.00010476455473053865),\n",
       " (u'propos.cut', 2, -0.00010470925094770544),\n",
       " (u'opportun.peopl', 2, -0.00010357252950738299),\n",
       " (u'reduc.deficit', 2, -0.00010343478003836455),\n",
       " (u'american.don', 4, -0.00010324328953462331),\n",
       " (u'hard.hit', 3, -0.00010311378578263137),\n",
       " (u'effort.repeal', 1, -0.0001029422198576077),\n",
       " (u'pay.cost', 3, -0.00010281667337850764),\n",
       " (u'committe.homeland', 1, -0.00010264041556213332),\n",
       " (u'labor.law', 3, -0.00010256854129139949),\n",
       " (u'creat.nation', 3, -0.00010242082307924591),\n",
       " (u'foreign.aid', 6, -0.00010218651770743431),\n",
       " (u'billion.deficit', 4, -0.00010210197883454713),\n",
       " (u'retir.save', 2, -0.00010161891284217433),\n",
       " (u'unemploy.benefit', 1, -0.00010131483790609425),\n",
       " (u'memori.day', 3, -0.00010068516436190938),\n",
       " (u'countri.america', 5, -0.00010053724592853817),\n",
       " (u'live.live', 5, -9.993285947210117e-05),\n",
       " (u'colleg.univers', 2, -9.973146953638967e-05),\n",
       " (u'themselv.famili', 2, -9.956816936752068e-05),\n",
       " (u'system.peopl', 4, -9.922482757369623e-05),\n",
       " (u'senat.mccain', 13, -9.900845608234344e-05),\n",
       " (u'presid.vote', 1, -9.892162605654192e-05),\n",
       " (u'solar.wind', 3, -9.854261410827442e-05),\n",
       " (u'compani.abl', 2, -9.848532415914667e-05),\n",
       " (u'elimin.program', 2, -9.84426922769938e-05),\n",
       " (u'economi.reduc', 3, -9.834960791901536e-05),\n",
       " (u'pay.colleg', 1, -9.799679045015771e-05),\n",
       " (u'educ.system', 4, -9.782235402053524e-05),\n",
       " (u'privat.plan', 2, -9.744682187860937e-05),\n",
       " (u'right.peopl', 1, -9.730375626574306e-05),\n",
       " (u'colleg.educ', 2, -9.690657332352579e-05),\n",
       " (u'vote.nay', 2, -9.689512478941308e-05),\n",
       " (u'mean.million', 1, -9.64632300874536e-05),\n",
       " (u'time.invest', 2, -9.617940878574038e-05),\n",
       " (u'osama.bin', 9, -9.617458829939096e-05),\n",
       " (u'troop.iraq', 2, -9.606186040495621e-05),\n",
       " (u'earlier.month', 4, -9.579887096469417e-05),\n",
       " (u'hope.chang', 6, -9.575732898080795e-05),\n",
       " (u'construct.worker', 1, -9.570311651850965e-05),\n",
       " (u'wrong.direct', 4, -9.564186677516269e-05),\n",
       " (u'benefit.tax', 1, -9.554815476152615e-05),\n",
       " (u'struggl.famili', 1, -9.53559508455908e-05),\n",
       " (u'increas.deficit', 2, -9.484047687941987e-05),\n",
       " (u'lay.peopl', 2, -9.468424331925246e-05),\n",
       " (u'negoti.israel', 2, -9.467715795153973e-05),\n",
       " (u'school.school', 2, -9.456872888938663e-05),\n",
       " (u'deep.cut', 1, -9.437153698500182e-05),\n",
       " (u'budget.plan', 5, -9.432471509364794e-05),\n",
       " (u'pay.benefit', 4, -9.425681488310298e-05),\n",
       " (u'ceil.vote', 4, -9.42197770224593e-05),\n",
       " (u'live.day', 3, -9.394248350371393e-05),\n",
       " (u'afford.colleg', 1, -9.386802782416293e-05),\n",
       " (u'percent.student', 1, -9.376684060494056e-05),\n",
       " (u'score.polit', 1, -9.365918228510372e-05),\n",
       " (u'mean.american', 6, -9.350565277955186e-05),\n",
       " (u'energi.effici', 2, -9.346177085888985e-05),\n",
       " (u'economi.invest', 1, -9.335640193722492e-05),\n",
       " (u'care.cost', 9, -9.314837415031828e-05),\n",
       " (u'vote.requir', 1, -9.293962431522625e-05),\n",
       " (u'expect.govern', 3, -9.275019576614794e-05),\n",
       " (u'feder.elect', 1, -9.250431187768045e-05),\n",
       " (u'close.tax', 1, -9.247518630899854e-05),\n",
       " (u'polit.postur', 1, -9.226970544552771e-05),\n",
       " (u'environ.public', 1, -9.219115181075518e-05),\n",
       " (u'elect.day', 1, -9.190495323444619e-05),\n",
       " (u'help.busi', 4, -9.184981829181268e-05),\n",
       " (u'save.money', 8, -9.173512587011379e-05),\n",
       " (u'america.don', 6, -9.164268417799661e-05),\n",
       " (u'pay.lower', 1, -9.102781772090865e-05),\n",
       " (u'insur.cost', 4, -9.090382018469927e-05),\n",
       " (u'abl.buy', 2, -9.034428824348659e-05),\n",
       " (u'give.tax', 1, -8.999332922165716e-05),\n",
       " (u'allow.insur', 1, -8.955397870670387e-05),\n",
       " (u'american.receiv', 1, -8.954251962834102e-05),\n",
       " (u'worker.worker', 1, -8.948514448815784e-05),\n",
       " (u'peopl.struggl', 5, -8.907177616572303e-05),\n",
       " (u'peopl.vote', 5, -8.886468708688918e-05),\n",
       " (u'program.mean', 1, -8.855523747024202e-05),\n",
       " (u'incom.senior', 2, -8.829755658788524e-05),\n",
       " (u'affair.committe', 2, -8.805828718475773e-05),\n",
       " (u'deficit.cut', 1, -8.771809211618828e-05),\n",
       " (u'budget.address', 2, -8.765446786345602e-05),\n",
       " (u'money.american', 3, -8.756637210533981e-05),\n",
       " (u'peopl.agre', 2, -8.735837652254445e-05),\n",
       " (u'reform.repeal', 1, -8.730524312264346e-05),\n",
       " (u'america.children', 2, -8.729314784799187e-05),\n",
       " (u'save.creat', 1, -8.703025509278904e-05),\n",
       " (u'pay.health', 2, -8.688108575606867e-05),\n",
       " (u'senat.grassley', 1, -8.640175154426604e-05),\n",
       " (u'militari.spend', 2, -8.631557870116911e-05),\n",
       " (u'manufactur.job', 3, -8.628953561102911e-05),\n",
       " (u'quarter.centuri', 1, -8.624297955416111e-05),\n",
       " (u'feder.worker', 1, -8.595097693519653e-05),\n",
       " (u'hardest.hit', 2, -8.572662703397986e-05),\n",
       " (u'peopl.do', 4, -8.571903638685381e-05),\n",
       " (u'busi.communiti', 2, -8.57009831555271e-05),\n",
       " (u'peopl.unemploy', 3, -8.556376537895391e-05),\n",
       " (u'near.billion', 5, -8.541037626636206e-05),\n",
       " (u'hurrican.katrina', 2, -8.52464111486779e-05),\n",
       " (u'ii.veteran', 4, -8.521390377737305e-05),\n",
       " (u'kid.school', 4, -8.51619361408759e-05),\n",
       " (u'plan.american', 2, -8.513072807802802e-05),\n",
       " (u'veteran.serv', 2, -8.499125265263823e-05),\n",
       " (u'abl.help', 2, -8.499125265263823e-05),\n",
       " (u'time.economi', 3, -8.482787351723602e-05),\n",
       " (u'help.student', 1, -8.472636951461785e-05),\n",
       " (u'class.countri', 1, -8.471711018549739e-05),\n",
       " (u'legisl.enact', 1, -8.459278433064358e-05),\n",
       " (u'feder.support', 1, -8.456149458616462e-05),\n",
       " (u'quarter.million', 5, -8.40066080573605e-05),\n",
       " (u'real.peopl', 3, -8.383175090768258e-05),\n",
       " (u'provid.critic', 2, -8.361435712753549e-05),\n",
       " (u'protect.social', 1, -8.269914228994358e-05),\n",
       " (u'economi.america', 3, -8.251523410971691e-05),\n",
       " (u'fair.trade', 1, -8.239935606243722e-05),\n",
       " (u'stark.contrast', 2, -8.185265838765619e-05),\n",
       " (u'compet.world', 2, -8.176436697703056e-05),\n",
       " (u'total.million', 2, -8.176436697703056e-05),\n",
       " (u'offic.report', 4, -8.131857825905568e-05),\n",
       " (u'restor.fund', 2, -8.119286127118926e-05),\n",
       " (u'ryan.budget', 2, -8.116675936623644e-05),\n",
       " (u'serv.countri', 6, -8.100052151417252e-05),\n",
       " (u'transport.system', 1, -8.082766228789944e-05),\n",
       " (u'sign.law', 5, -8.082040228224098e-05),\n",
       " (u'construct.job', 2, -8.047534247646196e-05),\n",
       " (u'job.grow', 4, -8.038253406276186e-05),\n",
       " (u'moral.respons', 1, -8.026472055492175e-05),\n",
       " (u'hurt.america', 2, -8.025283112205046e-05),\n",
       " (u'effort.improv', 1, -8.022720583752274e-05),\n",
       " (u'job.agenda', 1, -8.019466227157649e-05),\n",
       " (u'medic.care', 2, -8.017782159888815e-05),\n",
       " (u'hard.american', 2, -7.99260678196016e-05),\n",
       " (u'effort.bring', 2, -7.960518163575604e-05),\n",
       " (u'million.senior', 1, -7.960105453502364e-05),\n",
       " (u'barney.frank', 2, -7.93374175292294e-05),\n",
       " (u'peopl.abl', 5, -7.907640512532241e-05),\n",
       " (u'exact.opposit', 3, -7.88986096361346e-05),\n",
       " (u'econom.engin', 2, -7.85442799610791e-05),\n",
       " (u'pay.govern', 2, -7.812177226289708e-05),\n",
       " (u'cut.budget', 3, -7.781055836987536e-05),\n",
       " (u'budget.tax', 1, -7.771438527742449e-05),\n",
       " (u'abus.power', 3, -7.762107616938099e-05),\n",
       " (u'peopl.serv', 2, -7.758774807457055e-05),\n",
       " (u'land.water', 2, -7.757082021564747e-05),\n",
       " (u'american.share', 4, -7.754398152024118e-05),\n",
       " (u'lyndon.johnson', 1, -7.748679460313478e-05),\n",
       " (u'serious.deficit', 1, -7.726372691584011e-05),\n",
       " (u'net.program', 1, -7.718538811406163e-05),\n",
       " (u'wast.time', 2, -7.704396570338105e-05),\n",
       " (u'plan.reduc', 3, -7.703752350915776e-05),\n",
       " (u'clinton.era', 1, -7.693723512772838e-05),\n",
       " (u'return.invest', 2, -7.669510028279e-05),\n",
       " (u'talk.presid', 5, -7.663959177182445e-05),\n",
       " (u'stop.play', 1, -7.642457505443407e-05),\n",
       " (u'act.repeal', 2, -7.618753935675336e-05),\n",
       " (u'insur.coverag', 2, -7.609523207359456e-05),\n",
       " (u'percent.nation', 3, -7.571815246800218e-05),\n",
       " (u'seen.time', 3, -7.564867664401493e-05),\n",
       " (u'expir.tax', 2, -7.555761779693425e-05),\n",
       " (u'main.street', 2, -7.548006129037898e-05),\n",
       " (u'famili.face', 1, -7.540762778681487e-05),\n",
       " (u'littl.peopl', 1, -7.504160231492964e-05),\n",
       " (u'act.elimin', 1, -7.49079938062932e-05),\n",
       " (u're.sick', 2, -7.48637847316204e-05),\n",
       " (u'time.famili', 1, -7.477884982514922e-05),\n",
       " (u'lose.benefit', 1, -7.442664352149764e-05),\n",
       " (u'insur.market', 2, -7.433151096129903e-05),\n",
       " (u'difficult.econom', 2, -7.419520657387711e-05),\n",
       " (u'polici.creat', 2, -7.416074137627078e-05),\n",
       " (u'addit.billion', 2, -7.391966929238492e-05),\n",
       " (u'war.pay', 1, -7.35920869991144e-05),\n",
       " (u'cut.benefit', 1, -7.355149175946136e-05),\n",
       " (u'brand.name', 1, -7.325111845162138e-05),\n",
       " (u'valu.countri', 2, -7.315776700495231e-05),\n",
       " (u'feder.fund', 2, -7.285537637904428e-05),\n",
       " (u'littl.time', 4, -7.278394791892903e-05),\n",
       " (u'program.elimin', 1, -7.244131806444014e-05),\n",
       " (u'crisi.america', 2, -7.231056551707558e-05),\n",
       " (u'nation.recogn', 3, -7.21646831609081e-05),\n",
       " (u'help.rebuild', 1, -7.214005287160137e-05),\n",
       " (u'term.fiscal', 1, -7.210472741783635e-05),\n",
       " (u'peopl.suffer', 2, -7.187006920756412e-05),\n",
       " (u'tri.help', 3, -7.184483977689436e-05),\n",
       " (u'privat.market', 2, -7.154676828353597e-05),\n",
       " (u'budget.surplus', 1, -7.145093753812326e-05),\n",
       " (u'propos.billion', 1, -7.115667554002971e-05),\n",
       " (u'love.one', 4, -7.094254503460924e-05),\n",
       " (u'recent.histori', 1, -7.088445497287577e-05),\n",
       " (u'job.take', 4, -7.083540163077301e-05),\n",
       " (u'equal.right', 1, -7.082816611943649e-05),\n",
       " (u'invest.countri', 1, -7.06761495778145e-05),\n",
       " (u'issu.peopl', 6, -7.063376673618015e-05),\n",
       " (u'automat.cut', 1, -7.06151185193449e-05),\n",
       " (u'program.america', 1, -7.06151185193449e-05),\n",
       " (u'global.warm', 1, -6.985865566489627e-05),\n",
       " (u'presid.reagan', 3, -6.97808385174783e-05),\n",
       " (u'honor.commit', 1, -6.969869792109548e-05),\n",
       " (u'cut.reduc', 1, -6.948553694702354e-05),\n",
       " (u'elect.peopl', 3, -6.938567573273183e-05),\n",
       " (u'heat.oil', 1, -6.935167160872802e-05),\n",
       " (u'thousand.children', 1, -6.870588025240264e-05),\n",
       " (u'call.immedi', 1, -6.863181761541915e-05),\n",
       " (u'global.economi', 1, -6.862686815761798e-05),\n",
       " (u'peopl.lost', 2, -6.845185645232658e-05),\n",
       " (u'communiti.countri', 1, -6.821567499761555e-05),\n",
       " (u'resourc.avail', 2, -6.819855092816875e-05),\n",
       " (u'centuri.ago', 2, -6.813692932969634e-05),\n",
       " (u'program.run', 2, -6.809197400254325e-05),\n",
       " (u'million.live', 2, -6.802577032925464e-05),\n",
       " (u'cut.vote', 1, -6.783545591503822e-05),\n",
       " (u'budget.crisi', 1, -6.771427703635387e-05),\n",
       " (u'share.tax', 1, -6.752540178638299e-05),\n",
       " (u'peopl.run', 4, -6.74464253154633e-05),\n",
       " (u'get.american', 3, -6.710599466817572e-05),\n",
       " (u'economi.don', 4, -6.698332867273929e-05),\n",
       " (u'lower.rate', 2, -6.666102675432306e-05),\n",
       " (u'school.student', 3, -6.644790053658018e-05),\n",
       " (u'program.peopl', 1, -6.630697860306319e-05),\n",
       " (u'program.requir', 1, -6.628637854518258e-05),\n",
       " (u'peac.secur', 2, -6.626320358425172e-05),\n",
       " (u'challeng.time', 1, -6.577373612188221e-05),\n",
       " (u'thank.presid', 2, -6.556744092875276e-05),\n",
       " (u'provid.billion', 2, -6.551569104553027e-05),\n",
       " (u'ten.billion', 1, -6.52856817364485e-05),\n",
       " (u'averag.american', 2, -6.521644240933495e-05),\n",
       " (u'paid.million', 2, -6.519777603685539e-05),\n",
       " (u'add.billion', 2, -6.513691937693097e-05),\n",
       " (u'commend.presid', 1, -6.512570967032512e-05),\n",
       " (u'militari.forc', 1, -6.512497960983926e-05),\n",
       " (u'accord.center', 1, -6.510143008218913e-05),\n",
       " (u'real.challeng', 1, -6.509760030904282e-05),\n",
       " (u'govern.respond', 1, -6.507503095148368e-05),\n",
       " (u'help.improv', 1, -6.506625640521472e-05),\n",
       " (u'rippl.effect', 1, -6.505219498026022e-05),\n",
       " (u'tax.benefit', 1, -6.504955936001213e-05),\n",
       " (u'focus.real', 1, -6.498509898701202e-05),\n",
       " (u'america.time', 5, -6.470353153715182e-05),\n",
       " (u'free.speech', 2, -6.457348207933239e-05),\n",
       " (u'econom.develop', 2, -6.455750950902462e-05),\n",
       " (u'cut.top', 1, -6.430968887313842e-05),\n",
       " (u'afford.health', 1, -6.413547071197258e-05),\n",
       " (u'proud.stand', 2, -6.410513752860524e-05),\n",
       " (u'near.american', 1, -6.401863123895062e-05),\n",
       " (u'care.educ', 1, -6.40109723924457e-05),\n",
       " (u'nation.re', 3, -6.351951140187912e-05),\n",
       " (u'world.american', 3, -6.351951140187839e-05),\n",
       " (u'save.million', 3, -6.337979078080238e-05),\n",
       " (u'american.countri', 3, -6.330855764242667e-05),\n",
       " (u'short.term', 2, -6.313636621498726e-05),\n",
       " (u'protect.health', 1, -6.310719830767135e-05),\n",
       " (u'challeng.nation', 2, -6.293876124965328e-05),\n",
       " (u'develop.countri', 2, -6.293677691518901e-05),\n",
       " (u'fiscal.irrespons', 2, -6.291142774539487e-05),\n",
       " (u'help.veteran', 1, -6.233703041228374e-05),\n",
       " (u'amp.poor', 1, -6.23189414611719e-05),\n",
       " (u'standard.amp', 1, -6.23189414611719e-05),\n",
       " (u'peopl.reli', 1, -6.215173868466881e-05),\n",
       " (u'help.communiti', 2, -6.185953694083125e-05),\n",
       " (u'born.rais', 1, -6.157672759719034e-05),\n",
       " (u'system.nation', 1, -6.154722017154737e-05),\n",
       " (u'leadership.thank', 1, -6.151632155002669e-05),\n",
       " (u'stamp.program', 1, -6.148028391249969e-05),\n",
       " (u'clean.air', 1, -6.133101751946136e-05),\n",
       " (u'program.program', 3, -6.132536623277556e-05),\n",
       " (u'pay.don', 3, -6.12297333338418e-05),\n",
       " (u'program.improv', 2, -6.098937527082289e-05),\n",
       " (u'repair.road', 2, -6.064405909254155e-05),\n",
       " (u'increas.level', 1, -6.0547314982083285e-05),\n",
       " (u'citi.countri', 1, -6.047337985475379e-05),\n",
       " (u'result.job', 1, -6.044860891806163e-05),\n",
       " (u'medicar.cost', 1, -6.014797733809074e-05),\n",
       " (u'committe.oversight', 1, -6.0001721196831676e-05),\n",
       " (u'forc.vote', 1, -5.9884188399193555e-05),\n",
       " (u'thousand.peopl', 2, -5.983006055452602e-05),\n",
       " (u'effici.standard', 1, -5.9800437664578675e-05),\n",
       " (u'senior.live', 1, -5.965806588617809e-05),\n",
       " (u'own.nation', 2, -5.931624572736989e-05),\n",
       " (u'ros.lehtinen', 1, -5.930787718022528e-05),\n",
       " (u'everyday.american', 1, -5.9247692168119e-05),\n",
       " (u'citi.town', 1, -5.911522896009286e-05),\n",
       " (u'includ.million', 1, -5.886908378443297e-05),\n",
       " (u'th.centuri', 3, -5.8853133403533304e-05),\n",
       " (u'help.develop', 2, -5.87875406573352e-05),\n",
       " (u'insur.insur', 1, -5.877427659545801e-05),\n",
       " (u'pay.tribut', 1, -5.874970335921042e-05),\n",
       " (u'record.deficit', 1, -5.872592003240325e-05),\n",
       " (u'women.countri', 1, -5.867896963737996e-05),\n",
       " (u'former.presid', 3, -5.8379624223194345e-05),\n",
       " (u'move.beyond', 2, -5.825499651333264e-05),\n",
       " (u'wage.benefit', 1, -5.8094828773914896e-05),\n",
       " (u'address.challeng', 1, -5.80708854097009e-05),\n",
       " (u'fair.share', 3, -5.803889628550139e-05),\n",
       " (u'nation.econom', 3, -5.801924005698896e-05),\n",
       " (u'worker.american', 1, -5.7874963169323244e-05),\n",
       " (u'afford.coverag', 1, -5.779785308353846e-05),\n",
       " (u'approxim.million', 2, -5.75722234705959e-05),\n",
       " (u'student.student', 1, -5.756834266624202e-05),\n",
       " (u'famili.america', 2, -5.756418295998059e-05),\n",
       " (u'cours.presid', 2, -5.755041973804197e-05),\n",
       " (u'serv.nation', 1, -5.7382517989207754e-05),\n",
       " (u'dramat.reduc', 2, -5.735278362617591e-05),\n",
       " (u'call.question', 2, -5.705994595512665e-05),\n",
       " (u'bank.bank', 2, -5.7032446564474464e-05),\n",
       " (u'help.save', 2, -5.701076609387662e-05),\n",
       " (u'immigr.system', 3, -5.69777503663455e-05),\n",
       " (u'shoulder.shoulder', 5, -5.6916617243455656e-05),\n",
       " (u'financi.sector', 1, -5.678668030118264e-05),\n",
       " (u'effort.creat', 3, -5.6646934375308746e-05),\n",
       " (u'interst.highway', 4, -5.645230246330147e-05),\n",
       " (u'famili.help', 2, -5.639317008265753e-05),\n",
       " (u'agre.agre', 1, -5.6386890016140484e-05),\n",
       " (u'vote.time', 1, -5.620527936012847e-05),\n",
       " (u'oil.compani', 1, -5.586634619629359e-05),\n",
       " (u'construct.project', 5, -5.584912851658134e-05),\n",
       " (u'food.price', 1, -5.5770664829815545e-05),\n",
       " (u'nation.peopl', 4, -5.5576133824966636e-05),\n",
       " (u'israel.presid', 3, -5.545580589454385e-05),\n",
       " (u'poll.percent', 2, -5.5442073609788304e-05),\n",
       " (u'care.insur', 1, -5.53747905969852e-05),\n",
       " (u'american.histori', 10, -5.526235285699997e-05),\n",
       " (u'countri.fiscal', 1, -5.494258830720138e-05),\n",
       " (u'feder.dollar', 2, -5.467444114645942e-05),\n",
       " (u'face.american', 1, -5.4570759656390995e-05),\n",
       " (u'union.elect', 3, -5.4223633304391485e-05),\n",
       " (u'famili.day', 1, -5.422343522621934e-05),\n",
       " (u'cut.time', 1, -5.4176764439019414e-05),\n",
       " (u'abil.american', 1, -5.4166594337277326e-05),\n",
       " (u'countri.deserv', 1, -5.406493412671352e-05),\n",
       " (u'final.vote', 1, -5.4051695381850234e-05),\n",
       " (u'tell.stori', 3, -5.4019032908796184e-05),\n",
       " (u'improv.health', 1, -5.389616438986698e-05),\n",
       " (u'ben.bernank', 3, -5.3862046893831246e-05),\n",
       " (u'rise.strong', 2, -5.3673519970787096e-05),\n",
       " (u'law.enact', 1, -5.333304281968471e-05),\n",
       " (u'peopl.stay', 1, -5.331017991555866e-05),\n",
       " (u'address.job', 1, -5.3303988822054105e-05),\n",
       " (u'continu.war', 1, -5.328956733853609e-05),\n",
       " (u'care.veteran', 1, -5.328288960587056e-05),\n",
       " (u'protect.american', 2, -5.3232477478776415e-05),\n",
       " (u'rais.rate', 1, -5.319983872680377e-05),\n",
       " (u'hispan.american', 2, -5.314518678405022e-05),\n",
       " (u'oversight.govern', 1, -5.314268127557358e-05),\n",
       " (u'legisl.make', 2, -5.3135986460769866e-05),\n",
       " (u'time.econom', 1, -5.310206450414855e-05),\n",
       " (u'billion.month', 1, -5.307993260291302e-05),\n",
       " (u'provis.allow', 1, -5.297387560174081e-05),\n",
       " (u'peopl.middl', 4, -5.295847959403008e-05),\n",
       " (u'vote.allow', 1, -5.294981382036977e-05),\n",
       " (u'time.spent', 1, -5.2829381954868794e-05),\n",
       " (u'famili.friend', 2, -5.271829038750285e-05),\n",
       " (u'communiti.help', 1, -5.251447916308947e-05),\n",
       " (u'grow.america', 2, -5.2495003329875165e-05),\n",
       " (u'help.hand', 1, -5.241119811600303e-05),\n",
       " (u'congress.major', 1, -5.231209153819829e-05),\n",
       " (u'wage.war', 1, -5.22197370006534e-05),\n",
       " (u'invest.creat', 1, -5.2073173641492116e-05),\n",
       " (u'pollut.air', 1, -5.1910196210721095e-05),\n",
       " (u'financi.secur', 1, -5.1909536824063027e-05),\n",
       " (u'servic.provid', 2, -5.1760581106607785e-05),\n",
       " (u'afford.pay', 1, -5.173157764483161e-05),\n",
       " (u'worst.econom', 1, -5.1440589562614096e-05),\n",
       " (u'debat.issu', 1, -5.1422911498826826e-05),\n",
       " (u'afghan.peopl', 1, -5.1089662231408645e-05),\n",
       " (u'vote.system', 1, -5.098145721853318e-05),\n",
       " (u'palestinian.author', 2, -5.096250224484229e-05),\n",
       " (u'rule.committe', 2, -5.092098750146112e-05),\n",
       " (u'oil.price', 3, -4.9874667017113245e-05),\n",
       " (u'care.repeal', 1, -4.9824340924304984e-05),\n",
       " (u'requir.spend', 1, -4.9815414770226076e-05),\n",
       " (u'communiti.health', 1, -4.9721858041349026e-05),\n",
       " (u'credit.card', 3, -4.966281222321018e-05),\n",
       " (u'negoti.peac', 1, -4.965556900246069e-05),\n",
       " (u'fund.plan', 3, -4.9645328271714604e-05),\n",
       " (u'peopl.grow', 1, -4.959076283536067e-05),\n",
       " (u'solar.energi', 1, -4.920062149220915e-05),\n",
       " (u'america.am', 1, -4.91798265885624e-05),\n",
       " (u'america.econom', 5, -4.9169826891925574e-05),\n",
       " (u'vote.increas', 1, -4.902713817627696e-05),\n",
       " (u'wealth.creat', 1, -4.899361270038869e-05),\n",
       " (u'amend.ensur', 1, -4.8966525676209144e-05),\n",
       " (u'wealthi.peopl', 1, -4.876945721893206e-05),\n",
       " (u'premium.cost', 1, -4.87690791603344e-05),\n",
       " (u'benefit.peopl', 1, -4.872232926286607e-05),\n",
       " (u'debat.time', 1, -4.8610603545675484e-05),\n",
       " (u'pay.deficit', 1, -4.8522382151434914e-05),\n",
       " (u'employ.hire', 9, -4.845983037951875e-05),\n",
       " (u'signific.impact', 1, -4.8359154611310085e-05),\n",
       " (u'care.expens', 1, -4.835782841277126e-05),\n",
       " (u'percent.cost', 1, -4.828978148685557e-05),\n",
       " (u'care.children', 1, -4.820864670016517e-05),\n",
       " (u'afford.insur', 1, -4.815111619471115e-05),\n",
       " (u'sponsor.legisl', 1, -4.814994367767391e-05),\n",
       " (u'econom.opportun', 2, -4.813611485274293e-05),\n",
       " (u'rebuild.economi', 1, -4.7895976025852175e-05),\n",
       " (u'wrong.approach', 1, -4.786347035633993e-05),\n",
       " (u'improv.program', 2, -4.786287985000886e-05),\n",
       " (u'american.budget', 1, -4.778832539681603e-05),\n",
       " (u'forc.pay', 1, -4.767473493827569e-05),\n",
       " (u'america.famili', 1, -4.7650278967687315e-05),\n",
       " (u'help.senior', 1, -4.7310196093018253e-05),\n",
       " (u'trillion.cut', 2, -4.6546316501148496e-05),\n",
       " (u'transport.committe', 1, -4.650559324229389e-05),\n",
       " (u'john.adam', 1, -4.65055609506509e-05),\n",
       " (u'rebuild.infrastructur', 1, -4.64298448926459e-05),\n",
       " (u'fuel.effici', 1, -4.640205057840301e-05),\n",
       " (u'massiv.tax', 2, -4.631781807748417e-05),\n",
       " (u'budget.creat', 1, -4.629139792227654e-05),\n",
       " (u'serious.propos', 3, -4.602245557130486e-05),\n",
       " (u'america.live', 2, -4.5863216459553926e-05),\n",
       " (u'countri.help', 2, -4.5741371339892024e-05),\n",
       " (u'elect.commiss', 1, -4.557819981804458e-05),\n",
       " (u'am.deepli', 1, -4.546391080251237e-05),\n",
       " (u'colleagu.agre', 1, -4.533769445394389e-05),\n",
       " (u'abl.afford', 1, -4.5148700856608936e-05),\n",
       " (u'research.develop', 1, -4.4978729775139145e-05),\n",
       " (u'vote.peopl', 1, -4.4959153211654736e-05),\n",
       " (u'support.america', 1, -4.454343754017445e-05),\n",
       " (u'am.support', 2, -4.443945837500122e-05),\n",
       " (u'allow.employ', 1, -4.4259785170946256e-05),\n",
       " (u'peopl.time', 2, -4.421792289694856e-05),\n",
       " (u'san.antonio', 1, -4.420649710917888e-05),\n",
       " (u'peopl.famili', 1, -4.415519272653664e-05),\n",
       " (u'honor.memori', 2, -4.4140247870482814e-05),\n",
       " (u'nato.alli', 1, -4.3981068518046466e-05),\n",
       " (u'time.abl', 2, -4.389259239417603e-05),\n",
       " (u'kansa.citi', 1, -4.382723393172801e-05),\n",
       " (u'tell.senior', 1, -4.373510539017378e-05),\n",
       " (u'put.forward', 1, -4.371937275591987e-05),\n",
       " (u'time.legisl', 1, -4.3700456209192526e-05),\n",
       " (u'program.effect', 1, -4.367882093572801e-05),\n",
       " (u'major.cut', 1, -4.3664008441701996e-05),\n",
       " (u'vote.cast', 1, -4.364253488765808e-05),\n",
       " (u'act.respons', 1, -4.335190027926125e-05),\n",
       " (u'famili.communiti', 1, -4.334722266345784e-05),\n",
       " (u'famili.countri', 3, -4.3195672645428664e-05),\n",
       " (u'cost.insur', 1, -4.306249732847853e-05),\n",
       " (u'polit.campaign', 1, -4.2430101203390515e-05),\n",
       " (u'educ.program', 1, -4.239729955889658e-05),\n",
       " (u'famili.afford', 1, -4.223974445229777e-05),\n",
       " (u'reduc.rate', 3, -4.2084770988110816e-05),\n",
       " (u'vote.law', 1, -4.18244421917385e-05),\n",
       " (u'grow.countri', 1, -4.176598377309766e-05),\n",
       " (u'district.york', 1, -4.1514448366523355e-05),\n",
       " (u'bond.rate', 1, -4.149914030573541e-05),\n",
       " (u'put.money', 1, -4.142396528872989e-05),\n",
       " (u'time.histori', 6, -4.1320597803565206e-05),\n",
       " (u'educ.opportun', 1, -4.1315419751405434e-05),\n",
       " (u'budget.talk', 1, -4.124437711228897e-05),\n",
       " (u'talk.america', 1, -4.117950959573875e-05),\n",
       " (u'worker.union', 2, -4.108872898484593e-05),\n",
       " (u'come.forward', 2, -4.09771002295162e-05),\n",
       " (u'encourag.busi', 5, -4.0676625268102934e-05),\n",
       " (u'famili.suffer', 2, -4.0629902473562176e-05),\n",
       " (u'default.debt', 1, -4.042730897052014e-05),\n",
       " (u'buffett.rule', 2, -4.042118614071696e-05),\n",
       " (u'educ.fund', 1, -4.036755210542509e-05),\n",
       " (u'improv.access', 1, -4.0328816812690406e-05),\n",
       " (u'leader.countri', 2, -4.026932551597307e-05),\n",
       " (u'peopl.protect', 1, -4.024980246359135e-05),\n",
       " (u'abl.vote', 1, -4.009283832787905e-05),\n",
       " (u'fail.creat', 1, -4.005925415274366e-05),\n",
       " (u'histori.shown', 1, -3.9856533127525713e-05),\n",
       " (u'air.clean', 1, -3.98482574807006e-05),\n",
       " (u'percent.below', 1, -3.979753357540895e-05),\n",
       " (u'posit.step', 1, -3.9773080646031486e-05),\n",
       " (u'do.american', 5, -3.97517880590222e-05),\n",
       " (u'world.watch', 2, -3.971677873816936e-05),\n",
       " (u'time.polit', 1, -3.970082991820108e-05),\n",
       " (u'put.america', 1, -3.967239198011022e-05),\n",
       " (u'histori.nation', 1, -3.9660954954498354e-05),\n",
       " (u'program.call', 1, -3.955671985402869e-05),\n",
       " (u'qualiti.educ', 1, -3.945164425707194e-05),\n",
       " (u'countri.serious', 1, -3.938996822855016e-05),\n",
       " (u'public.fund', 1, -3.9314313836557684e-05),\n",
       " (u'result.elect', 1, -3.9096597630670144e-05),\n",
       " (u'care.deliveri', 1, -3.9085983059312024e-05),\n",
       " (u'provid.health', 3, -3.905824309150067e-05),\n",
       " (u'address.serious', 1, -3.905028467187407e-05),\n",
       " (u'serious.challeng', 1, -3.8977804996179975e-05),\n",
       " (u'retir.plan', 3, -3.893554108080717e-05),\n",
       " (u'percent.million', 1, -3.885668384340289e-05),\n",
       " (u'american.access', 1, -3.8793252346112396e-05),\n",
       " (u'set.stage', 1, -3.8790898445515596e-05),\n",
       " (u'bring.american', 2, -3.8731404993562414e-05),\n",
       " (u'gas.tax', 1, -3.864001282248501e-05),\n",
       " (u'countri.million', 1, -3.861320016213745e-05),\n",
       " (u'help.ensur', 1, -3.858162445004161e-05),\n",
       " ...]"
      ]
     },
     "execution_count": 158,
     "metadata": {},
     "output_type": "execute_result"
    }
   ],
   "source": [
    "sorted(romney_primary_loadings, key=lambda x: x[2], reverse=False)"
   ]
  },
  {
   "cell_type": "code",
   "execution_count": null,
   "metadata": {
    "collapsed": true
   },
   "outputs": [],
   "source": []
  }
 ],
 "metadata": {
  "kernelspec": {
   "display_name": "Python 2",
   "language": "python",
   "name": "python2"
  },
  "language_info": {
   "codemirror_mode": {
    "name": "ipython",
    "version": 2
   },
   "file_extension": ".py",
   "mimetype": "text/x-python",
   "name": "python",
   "nbconvert_exporter": "python",
   "pygments_lexer": "ipython2",
   "version": "2.7.9"
  }
 },
 "nbformat": 4,
 "nbformat_minor": 0
}
