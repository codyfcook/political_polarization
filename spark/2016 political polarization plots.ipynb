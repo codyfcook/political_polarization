{
 "cells": [
  {
   "cell_type": "code",
   "execution_count": null,
   "metadata": {
    "collapsed": true
   },
   "outputs": [],
   "source": [
    "import csv\n",
    "import numpy as np \n",
    "from datetime import datetime \n",
    "\n",
    "# Read in the data, without headers\n",
    "temp = [] \n",
    "with open(\"../final_data/candidate_fitted_values.csv\", 'rU') as csvfile:\n",
    "    reader = csv.reader(csvfile, delimiter=',', quotechar='|')\n",
    "    for row in reader: \n",
    "        temp.append(row)\n",
    "temp = temp[1:]\n",
    "\n",
    "# Need to convert the date \n",
    "def convert_date(date): \n",
    "    date = date.replace(\"\\\"\", \"\")\n",
    "    if len(date)==6: \n",
    "        date = \"0\" + date\n",
    "    return datetime.strptime(date, '%m-%Y') #matplotlib.dates.date2num(\n",
    "\n",
    "# Capitalize names appropriately\n",
    "def clean_name(name):\n",
    "    name = name.replace(\"\\\"\", \"\")\n",
    "    name = name[0].upper() + name[1:]\n",
    "    return name\n",
    "    \n",
    "# Clean and keep only the cols we'll need\n",
    "cand_results = []\n",
    "for i in range(len(temp)): \n",
    "    cand_results.append([clean_name(temp[i][1]), convert_date(temp[i][2]), float(temp[i][3])])"
   ]
  },
  {
   "cell_type": "code",
   "execution_count": null,
   "metadata": {
    "collapsed": true
   },
   "outputs": [],
   "source": [
    "import matplotlib.pyplot as plt\n",
    "from matplotlib import cm\n",
    "import matplotlib \n",
    "from matplotlib import colors\n",
    "%matplotlib inline\n",
    "\n",
    "fig = matplotlib.pyplot.gcf()\n",
    "fig.set_size_inches(14.5, 8.5)\n",
    "\n",
    "include_cands = [\"Trump\", \"Clinton\", \"Sanders\", \"Rubio\", \"Cruz\", \"Christie\", \"Bush\"]\n",
    "date_range = [datetime(month=10, year=2015, day=1), datetime(month=5, year=2016, day=1)]\n",
    "colors = ['red', 'mediumblue', 'green', 'olivedrab', 'darkorchid', 'magenta', 'darkseagreen', 'gold', 'brown', 'grey']\n",
    "i=0\n",
    "for cand in include_cands: \n",
    "    ar = np.asarray(sorted([l for l in cand_results if l[0]==cand and l[1]>=date_range[0] and l[1]<=date_range[1]], key = lambda x: x[1]))\n",
    "    x = ar[:,1]\n",
    "    y = ar[:,2]\n",
    "    plt.plot(x, y, label=cand, color=colors[i])\n",
    "    i+=1\n",
    "#plt.axvline(x=datetime(2012, 5, 2, 0, 0),color='k',ls='dashed')\n",
    "#plt.text(datetime(2012, 5, 4, 0, 0),.4,'Effective End \\nof GOP Primary',rotation=0, fontsize=16)\n",
    "plt.title(\"2016 Election Polarization: Estimated DW-NOMINATE\", fontsize=20)\n",
    "plt.xlabel(\"Date (Monthly)\", fontsize=14)\n",
    "plt.ylabel(\"DW-NOMINATE Estimate\", fontsize=14)\n",
    "plt.xticks(rotation='vertical')\n",
    "plt.legend()\n",
    "#plt.show()\n",
    "plt.savefig('../graphs/2016_dwnom_estimates.png', format='png', dpi=300)"
   ]
  }
 ],
 "metadata": {
  "kernelspec": {
   "display_name": "Python 2",
   "language": "python",
   "name": "python2"
  },
  "language_info": {
   "codemirror_mode": {
    "name": "ipython",
    "version": 2
   },
   "file_extension": ".py",
   "mimetype": "text/x-python",
   "name": "python",
   "nbconvert_exporter": "python",
   "pygments_lexer": "ipython2",
   "version": "2.7.9"
  }
 },
 "nbformat": 4,
 "nbformat_minor": 0
}
